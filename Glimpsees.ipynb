{
  "nbformat": 4,
  "nbformat_minor": 0,
  "metadata": {
    "colab": {
      "provenance": []
    },
    "kernelspec": {
      "name": "python3",
      "display_name": "Python 3"
    },
    "language_info": {
      "name": "python"
    }
  },
  "cells": [
    {
      "cell_type": "markdown",
      "source": [
        "# Instructions\n",
        "### 1. Upload your video file.\n",
        "### 2. Run the **Libs** command.\n",
        "### 3. On **Pre-config** match the `file_name` variable to the uploaded video's filename.\n",
        "This var will be used for the final downloadable ZIP and GIF (if desired) files (e.g., `faces_my_example_video.zip`, `faces_my_example_video.gif`).\n",
        "\n",
        "### 4. On **FPS** set a custom value (optional).\n",
        "Do not change it to use original video's FPS.\n",
        "\n",
        "### 5. Run the **App** script.\n",
        "### 6. Run the **GIF** script (optional)."
      ],
      "metadata": {
        "id": "ObQ8oz1iWH9C"
      }
    },
    {
      "cell_type": "markdown",
      "source": [
        "# Libs"
      ],
      "metadata": {
        "id": "wOZkuSJmh44I"
      }
    },
    {
      "cell_type": "code",
      "source": [
        "!pip install opencv-python dlib"
      ],
      "metadata": {
        "colab": {
          "base_uri": "https://localhost:8080/"
        },
        "id": "r-0lbtofh9cA",
        "outputId": "1bec838f-402d-4897-ef88-53410f429804"
      },
      "execution_count": 1,
      "outputs": [
        {
          "output_type": "stream",
          "name": "stdout",
          "text": [
            "Requirement already satisfied: opencv-python in /usr/local/lib/python3.11/dist-packages (4.12.0.88)\n",
            "Requirement already satisfied: dlib in /usr/local/lib/python3.11/dist-packages (19.24.6)\n",
            "Requirement already satisfied: numpy<2.3.0,>=2 in /usr/local/lib/python3.11/dist-packages (from opencv-python) (2.0.2)\n"
          ]
        }
      ]
    },
    {
      "cell_type": "markdown",
      "source": [
        "# Pre-config"
      ],
      "metadata": {
        "id": "NZ287xs_edo9"
      }
    },
    {
      "cell_type": "code",
      "source": [
        "file_name = \"my_example_video.mp4\"\n",
        "square_size = 200   # Final saved image size in pixels (after resize)\n",
        "face_padding = 0.25 # Padding (%) to include around the face crop\n",
        "resize_crop = True  # Resize face fit to square size"
      ],
      "metadata": {
        "id": "kbp0QoPEehDU"
      },
      "execution_count": 9,
      "outputs": []
    },
    {
      "cell_type": "markdown",
      "source": [
        "# Frames per second (FPS)"
      ],
      "metadata": {
        "id": "_zK36zYQi-dC"
      }
    },
    {
      "cell_type": "code",
      "source": [
        "import cv2\n",
        "\n",
        "cap = cv2.VideoCapture(file_name)\n",
        "original_fps = cap.get(cv2.CAP_PROP_FPS)\n",
        "target_fps = original_fps\n",
        "\n",
        "print(f\"Original FPS: {original_fps}\")\n",
        "print(f\"Target FPS: {target_fps}\")\n",
        "\n",
        "# Double check your custom FPS (if apply) meets next condition:\n",
        "# 0 < target_fps <= original_fps\n",
        "\n",
        "# Note: The less target_fps is the more frames skipped"
      ],
      "metadata": {
        "colab": {
          "base_uri": "https://localhost:8080/"
        },
        "id": "imnWjOh8fl84",
        "outputId": "e7223221-6e7b-4c70-d68b-1e31687ca366"
      },
      "execution_count": 10,
      "outputs": [
        {
          "output_type": "stream",
          "name": "stdout",
          "text": [
            "Original FPS: 23.976023976023978\n",
            "Target FPS: 23.976023976023978\n"
          ]
        }
      ]
    },
    {
      "cell_type": "markdown",
      "source": [
        "# App"
      ],
      "metadata": {
        "id": "ix-H8ZYxhS7S"
      }
    },
    {
      "cell_type": "code",
      "source": [
        "import os\n",
        "import time\n",
        "import dlib\n",
        "import shutil\n",
        "from google.colab import files\n",
        "\n",
        "# ==== Setup ====\n",
        "detector = dlib.get_frontal_face_detector()\n",
        "\n",
        "output_dir = \"tracked_faces\"\n",
        "output_zip = f\"faces_{file_name.split('.', 1)[0]}\"\n",
        "frame_interval = max(1, int(original_fps // target_fps))\n",
        "\n",
        "if os.path.exists(output_dir):\n",
        "    shutil.rmtree(output_dir)\n",
        "os.makedirs(output_dir)\n",
        "\n",
        "# ==== Helpers ====\n",
        "def elapsed_time(seconds):\n",
        "    if not isinstance(seconds, (int, float)) or seconds < 0:\n",
        "        return \"Bad time value\"\n",
        "\n",
        "    if seconds < 60:\n",
        "        return f\"{seconds:.2f} s\"\n",
        "    elif seconds < 3600:\n",
        "        minutes = seconds / 60\n",
        "        return f\"{minutes:.2f} m\"\n",
        "    else:\n",
        "        hours = seconds / 3600\n",
        "        return f\"{hours:.2f} h\"\n",
        "\n",
        "def as_cover(image):\n",
        "    # Get current crop dimensions\n",
        "    h, w = image.shape[:2]\n",
        "\n",
        "    # Calculate difference to crop to square (centered)\n",
        "    if w > h:\n",
        "        offset = (w - h) // 2\n",
        "        return image[:, offset:offset + h]\n",
        "    elif h > w:\n",
        "        offset = (h - w) // 2\n",
        "        return image[offset:offset + w, :]\n",
        "    return image\n",
        "\n",
        "# ==== App ====\n",
        "def tracker(target_fps, original_fps):\n",
        "  if not (0 < target_fps <= original_fps):\n",
        "    target_fps = original_fps  # Fallback to full speed\n",
        "\n",
        "  frame_step = original_fps / target_fps\n",
        "  next_frame = 0.0\n",
        "  frame_count = 0\n",
        "\n",
        "  while cap.isOpened():\n",
        "      ret, frame = cap.read()\n",
        "      if not ret:\n",
        "          break\n",
        "\n",
        "      if frame_count >= int(next_frame):\n",
        "          gray = cv2.cvtColor(frame, cv2.COLOR_BGR2GRAY)\n",
        "          faces = detector(gray)\n",
        "\n",
        "          if len(faces) > 0:\n",
        "              # Use first face\n",
        "              face = faces[0]\n",
        "              x, y, w, h = face.left(), face.top(), face.width(), face.height()\n",
        "\n",
        "              # Center point of face\n",
        "              cx, cy = x + w // 2, y + h // 2\n",
        "\n",
        "              # Square crop: half of face box + padding\n",
        "              half = int(max(w, h) * (1 + face_padding)) // 2\n",
        "\n",
        "              # Compute crop bounds\n",
        "              left   = max(cx - half, 0)\n",
        "              top    = max(cy - half, 0)\n",
        "              right  = min(cx + half, frame.shape[1])\n",
        "              bottom = min(cy + half, frame.shape[0])\n",
        "\n",
        "              face_crop = frame[top:bottom, left:right]\n",
        "\n",
        "              if resize_crop:\n",
        "                  # 1:1 ratio\n",
        "                  face_crop = as_cover(face_crop)\n",
        "                  # Resize the potentially cropped face to the square size\n",
        "                  face_crop = cv2.resize(face_crop, (square_size, square_size))\n",
        "\n",
        "              filename = os.path.join(output_dir, f\"frame_{frame_count:04d}.jpg\")\n",
        "              cv2.imwrite(filename, face_crop)\n",
        "\n",
        "          next_frame += frame_step\n",
        "\n",
        "      frame_count += 1\n",
        "  cap.release()\n",
        "\n",
        "# ==== Main ====\n",
        "if __name__ == \"__main__\":\n",
        "    start_time = time.time()\n",
        "    tracker(target_fps, original_fps)\n",
        "    end_time = time.time()\n",
        "    print(f\"Tracking done [{elapsed_time(end_time - start_time)}].\")\n",
        "\n",
        "    # ZIP\n",
        "    shutil.make_archive(output_zip, 'zip', output_dir)\n",
        "    print(f\"{output_zip}.zip saved.\")\n",
        "\n",
        "    # Download\n",
        "    files.download(f\"{output_zip}.zip\")"
      ],
      "metadata": {
        "id": "Vohr9I2bmG6C",
        "colab": {
          "base_uri": "https://localhost:8080/",
          "height": 52
        },
        "outputId": "e258e44e-3191-4ddb-f218-e8e8489f2b2e"
      },
      "execution_count": 11,
      "outputs": [
        {
          "output_type": "stream",
          "name": "stdout",
          "text": [
            "Tracking done [6.75 m].\n",
            "faces_cl.zip saved.\n"
          ]
        },
        {
          "output_type": "display_data",
          "data": {
            "text/plain": [
              "<IPython.core.display.Javascript object>"
            ],
            "application/javascript": [
              "\n",
              "    async function download(id, filename, size) {\n",
              "      if (!google.colab.kernel.accessAllowed) {\n",
              "        return;\n",
              "      }\n",
              "      const div = document.createElement('div');\n",
              "      const label = document.createElement('label');\n",
              "      label.textContent = `Downloading \"${filename}\": `;\n",
              "      div.appendChild(label);\n",
              "      const progress = document.createElement('progress');\n",
              "      progress.max = size;\n",
              "      div.appendChild(progress);\n",
              "      document.body.appendChild(div);\n",
              "\n",
              "      const buffers = [];\n",
              "      let downloaded = 0;\n",
              "\n",
              "      const channel = await google.colab.kernel.comms.open(id);\n",
              "      // Send a message to notify the kernel that we're ready.\n",
              "      channel.send({})\n",
              "\n",
              "      for await (const message of channel.messages) {\n",
              "        // Send a message to notify the kernel that we're ready.\n",
              "        channel.send({})\n",
              "        if (message.buffers) {\n",
              "          for (const buffer of message.buffers) {\n",
              "            buffers.push(buffer);\n",
              "            downloaded += buffer.byteLength;\n",
              "            progress.value = downloaded;\n",
              "          }\n",
              "        }\n",
              "      }\n",
              "      const blob = new Blob(buffers, {type: 'application/binary'});\n",
              "      const a = document.createElement('a');\n",
              "      a.href = window.URL.createObjectURL(blob);\n",
              "      a.download = filename;\n",
              "      div.appendChild(a);\n",
              "      a.click();\n",
              "      div.remove();\n",
              "    }\n",
              "  "
            ]
          },
          "metadata": {}
        },
        {
          "output_type": "display_data",
          "data": {
            "text/plain": [
              "<IPython.core.display.Javascript object>"
            ],
            "application/javascript": [
              "download(\"download_e935130d-e320-47fc-99bc-bf570c458596\", \"faces_cl.zip\", 7555647)"
            ]
          },
          "metadata": {}
        }
      ]
    },
    {
      "cell_type": "markdown",
      "source": [
        "# GIF"
      ],
      "metadata": {
        "id": "PuEzcsVa4V8a"
      }
    },
    {
      "cell_type": "code",
      "source": [
        "from PIL import Image\n",
        "\n",
        "# ==== Config ====\n",
        "duration = int(1000 / target_fps)\n",
        "input_dir = \"tracked_faces\"\n",
        "output_gif = f\"faces_{file_name.split('.', 1)[0]}.gif\"\n",
        "\n",
        "# ==== Setup ====\n",
        "if not os.path.exists(output_dir):\n",
        "  raise ValueError(f\"{input_dir} folder not found.\")\n",
        "\n",
        "image_files = sorted([\n",
        "    f for f in os.listdir(input_dir)\n",
        "    if f.endswith(('.jpg', '.jpeg', '.png'))\n",
        "])\n",
        "\n",
        "if not image_files:\n",
        "    raise ValueError(f\"No images found in {input_dir}.\")\n",
        "\n",
        "# ==== Main ====\n",
        "if __name__ == \"__main__\":\n",
        "    # Load images into Pillow\n",
        "    frames = [Image.open(os.path.join(input_dir, f)) for f in image_files]\n",
        "\n",
        "    # GIF\n",
        "    frames[0].save(\n",
        "        output_gif,\n",
        "        format='gif',\n",
        "        save_all=True,\n",
        "        append_images=frames[1:],\n",
        "        duration=duration,\n",
        "        loop=0\n",
        "    )\n",
        "    print(f\"{output_gif} saved.\")\n",
        "\n",
        "    # Download\n",
        "    files.download(output_gif)"
      ],
      "metadata": {
        "colab": {
          "base_uri": "https://localhost:8080/",
          "height": 34
        },
        "id": "hM6qJibt4WcI",
        "outputId": "c7a3aa0a-ddf1-4e93-9eae-b645cf24cec1"
      },
      "execution_count": 12,
      "outputs": [
        {
          "output_type": "stream",
          "name": "stdout",
          "text": [
            "faces_cl.gif saved.\n"
          ]
        },
        {
          "output_type": "display_data",
          "data": {
            "text/plain": [
              "<IPython.core.display.Javascript object>"
            ],
            "application/javascript": [
              "\n",
              "    async function download(id, filename, size) {\n",
              "      if (!google.colab.kernel.accessAllowed) {\n",
              "        return;\n",
              "      }\n",
              "      const div = document.createElement('div');\n",
              "      const label = document.createElement('label');\n",
              "      label.textContent = `Downloading \"${filename}\": `;\n",
              "      div.appendChild(label);\n",
              "      const progress = document.createElement('progress');\n",
              "      progress.max = size;\n",
              "      div.appendChild(progress);\n",
              "      document.body.appendChild(div);\n",
              "\n",
              "      const buffers = [];\n",
              "      let downloaded = 0;\n",
              "\n",
              "      const channel = await google.colab.kernel.comms.open(id);\n",
              "      // Send a message to notify the kernel that we're ready.\n",
              "      channel.send({})\n",
              "\n",
              "      for await (const message of channel.messages) {\n",
              "        // Send a message to notify the kernel that we're ready.\n",
              "        channel.send({})\n",
              "        if (message.buffers) {\n",
              "          for (const buffer of message.buffers) {\n",
              "            buffers.push(buffer);\n",
              "            downloaded += buffer.byteLength;\n",
              "            progress.value = downloaded;\n",
              "          }\n",
              "        }\n",
              "      }\n",
              "      const blob = new Blob(buffers, {type: 'application/binary'});\n",
              "      const a = document.createElement('a');\n",
              "      a.href = window.URL.createObjectURL(blob);\n",
              "      a.download = filename;\n",
              "      div.appendChild(a);\n",
              "      a.click();\n",
              "      div.remove();\n",
              "    }\n",
              "  "
            ]
          },
          "metadata": {}
        },
        {
          "output_type": "display_data",
          "data": {
            "text/plain": [
              "<IPython.core.display.Javascript object>"
            ],
            "application/javascript": [
              "download(\"download_1b8d93b3-6546-4d35-b1d5-2b300e286059\", \"faces_cl.gif\", 21357292)"
            ]
          },
          "metadata": {}
        }
      ]
    }
  ]
}