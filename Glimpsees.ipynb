{
  "nbformat": 4,
  "nbformat_minor": 0,
  "metadata": {
    "colab": {
      "provenance": []
    },
    "kernelspec": {
      "name": "python3",
      "display_name": "Python 3"
    },
    "language_info": {
      "name": "python"
    }
  },
  "cells": [
    {
      "cell_type": "markdown",
      "source": [
        "# Instructions\n",
        "### 1. Upload your video file.\n",
        "### 2. Run the **Libs** command.\n",
        "### 3. On **Pre-config** match the `file_name` variable to the uploaded video's filename.\n",
        "This var will be used for the final downloadable ZIP and GIF (if desired) files (e.g., `faces_my_example_video.zip`, `faces_my_example_video.gif`).\n",
        "\n",
        "### 4. On **FPS** set a custom value (optional).\n",
        "Do not change it to use original video's FPS.\n",
        "\n",
        "### 5. Run the **App** script.\n",
        "### 6. Run the **GIF** script (optional)."
      ],
      "metadata": {
        "id": "ObQ8oz1iWH9C"
      }
    },
    {
      "cell_type": "markdown",
      "source": [
        "# Libs"
      ],
      "metadata": {
        "id": "wOZkuSJmh44I"
      }
    },
    {
      "cell_type": "code",
      "source": [
        "!pip install opencv-python dlib"
      ],
      "metadata": {
        "colab": {
          "base_uri": "https://localhost:8080/"
        },
        "id": "r-0lbtofh9cA",
        "outputId": "b27f7df8-ed14-481b-e4d9-4931859f2460"
      },
      "execution_count": 8,
      "outputs": [
        {
          "output_type": "stream",
          "name": "stdout",
          "text": [
            "Requirement already satisfied: opencv-python in /usr/local/lib/python3.11/dist-packages (4.12.0.88)\n",
            "Requirement already satisfied: dlib in /usr/local/lib/python3.11/dist-packages (19.24.6)\n",
            "Requirement already satisfied: numpy<2.3.0,>=2 in /usr/local/lib/python3.11/dist-packages (from opencv-python) (2.0.2)\n"
          ]
        }
      ]
    },
    {
      "cell_type": "markdown",
      "source": [
        "# Pre-config"
      ],
      "metadata": {
        "id": "NZ287xs_edo9"
      }
    },
    {
      "cell_type": "code",
      "source": [
        "file_name = \"my_example_video.mp4\"\n",
        "square_size = 200   # Final saved image size in pixels (after resize)\n",
        "face_padding = 0.25 # Padding (%) to include around the face crop\n",
        "resize_crop = True  # Resize face fit to square size"
      ],
      "metadata": {
        "id": "kbp0QoPEehDU"
      },
      "execution_count": 9,
      "outputs": []
    },
    {
      "cell_type": "markdown",
      "source": [
        "# Frames per second (FPS)"
      ],
      "metadata": {
        "id": "_zK36zYQi-dC"
      }
    },
    {
      "cell_type": "code",
      "source": [
        "import cv2\n",
        "\n",
        "cap = cv2.VideoCapture(file_name)\n",
        "original_fps = cap.get(cv2.CAP_PROP_FPS)\n",
        "target_fps = original_fps\n",
        "\n",
        "print(f\"Original FPS: {original_fps}\")\n",
        "print(f\"Target FPS: {target_fps}\")\n",
        "\n",
        "# Double check your custom FPS (if apply) meets next condition:\n",
        "# 0 < target_fps <= original_fps\n",
        "\n",
        "# Note: The less target_fps is the more frames skipped"
      ],
      "metadata": {
        "colab": {
          "base_uri": "https://localhost:8080/"
        },
        "id": "imnWjOh8fl84",
        "outputId": "65d81a34-b9d4-412c-9cee-2cf83e908906"
      },
      "execution_count": 10,
      "outputs": [
        {
          "output_type": "stream",
          "name": "stdout",
          "text": [
            "Original FPS: 23.976023976023978\n",
            "Target FPS: 23.976023976023978\n"
          ]
        }
      ]
    },
    {
      "cell_type": "markdown",
      "source": [
        "# App"
      ],
      "metadata": {
        "id": "ix-H8ZYxhS7S"
      }
    },
    {
      "cell_type": "code",
      "source": [
        "import os\n",
        "import time\n",
        "import dlib\n",
        "import shutil\n",
        "from google.colab import files\n",
        "\n",
        "# ==== Setup ====\n",
        "detector = dlib.get_frontal_face_detector()\n",
        "\n",
        "output_dir = \"tracked_faces\"\n",
        "output_zip = f\"faces_{file_name.split('.', 1)[0]}\"\n",
        "frame_interval = max(1, int(original_fps // target_fps))\n",
        "total_frames = int(cap.get(cv2.CAP_PROP_FRAME_COUNT))\n",
        "\n",
        "if os.path.exists(output_dir):\n",
        "    shutil.rmtree(output_dir)\n",
        "os.makedirs(output_dir)\n",
        "\n",
        "# ==== Helpers ====\n",
        "def elapsed_time(seconds):\n",
        "    if not isinstance(seconds, (int, float)) or seconds < 0:\n",
        "        return \"Bad time value\"\n",
        "\n",
        "    if seconds < 60:\n",
        "        return f\"{seconds:.2f} s\"\n",
        "    elif seconds < 3600:\n",
        "        minutes = seconds / 60\n",
        "        return f\"{minutes:.2f} m\"\n",
        "    else:\n",
        "        hours = seconds / 3600\n",
        "        return f\"{hours:.2f} h\"\n",
        "\n",
        "def as_cover(image):\n",
        "    # Get current crop dimensions\n",
        "    h, w = image.shape[:2]\n",
        "\n",
        "    # Calculate difference to crop to square (centered)\n",
        "    if w > h:\n",
        "        offset = (w - h) // 2\n",
        "        return image[:, offset:offset + h]\n",
        "    elif h > w:\n",
        "        offset = (h - w) // 2\n",
        "        return image[offset:offset + w, :]\n",
        "    return image\n",
        "\n",
        "# ==== App ====\n",
        "def tracker(target_fps, original_fps):\n",
        "  if not (0 < target_fps <= original_fps):\n",
        "    target_fps = original_fps  # Fallback to full speed\n",
        "\n",
        "  frame_step = original_fps / target_fps\n",
        "  next_frame = 0.0\n",
        "  frame_count = 0\n",
        "\n",
        "  while cap.isOpened():\n",
        "      ret, frame = cap.read()\n",
        "      if not ret:\n",
        "          break\n",
        "\n",
        "      if frame_count >= int(next_frame):\n",
        "          gray = cv2.cvtColor(frame, cv2.COLOR_BGR2GRAY)\n",
        "          faces = detector(gray)\n",
        "\n",
        "          if len(faces) > 0:\n",
        "              # Use first face\n",
        "              face = faces[0]\n",
        "              x, y, w, h = face.left(), face.top(), face.width(), face.height()\n",
        "\n",
        "              # Center point of face\n",
        "              cx, cy = x + w // 2, y + h // 2\n",
        "\n",
        "              # Square crop: half of face box + padding\n",
        "              half = int(max(w, h) * (1 + face_padding)) // 2\n",
        "\n",
        "              # Compute crop bounds\n",
        "              left   = max(cx - half, 0)\n",
        "              top    = max(cy - half, 0)\n",
        "              right  = min(cx + half, frame.shape[1])\n",
        "              bottom = min(cy + half, frame.shape[0])\n",
        "\n",
        "              face_crop = frame[top:bottom, left:right]\n",
        "\n",
        "              if resize_crop:\n",
        "                  # 1:1 ratio\n",
        "                  face_crop = as_cover(face_crop)\n",
        "                  # Resize the potentially cropped face to the square size\n",
        "                  face_crop = cv2.resize(face_crop, (square_size, square_size))\n",
        "\n",
        "              filename = os.path.join(output_dir, f\"frame_{frame_count:04d}.jpg\")\n",
        "              cv2.imwrite(filename, face_crop)\n",
        "\n",
        "          next_frame += frame_step\n",
        "\n",
        "      print(f\"\\rProgress: {100 * frame_count / total_frames:.2f}%\", end=\"\")\n",
        "      frame_count += 1\n",
        "  cap.release()\n",
        "  print(\"\\rProgress: 100%\")\n",
        "\n",
        "# ==== Main ====\n",
        "if __name__ == \"__main__\":\n",
        "    start_time = time.time()\n",
        "    tracker(target_fps, original_fps)\n",
        "    end_time = time.time()\n",
        "    print(f\"Tracking done [{elapsed_time(end_time - start_time)}].\")\n",
        "\n",
        "    # ZIP\n",
        "    shutil.make_archive(output_zip, 'zip', output_dir)\n",
        "    print(f\"{output_zip}.zip saved.\")\n",
        "\n",
        "    # Download\n",
        "    files.download(f\"{output_zip}.zip\")"
      ],
      "metadata": {
        "id": "Vohr9I2bmG6C",
        "colab": {
          "base_uri": "https://localhost:8080/",
          "height": 69
        },
        "outputId": "487dfc72-68a3-4628-c7d8-1e319cc35585"
      },
      "execution_count": 11,
      "outputs": [
        {
          "output_type": "stream",
          "name": "stdout",
          "text": [
            "Progress: 100%\n",
            "Tracking done [47.22 s].\n",
            "faces_my_example_video.zip saved.\n"
          ]
        },
        {
          "output_type": "display_data",
          "data": {
            "text/plain": [
              "<IPython.core.display.Javascript object>"
            ],
            "application/javascript": [
              "\n",
              "    async function download(id, filename, size) {\n",
              "      if (!google.colab.kernel.accessAllowed) {\n",
              "        return;\n",
              "      }\n",
              "      const div = document.createElement('div');\n",
              "      const label = document.createElement('label');\n",
              "      label.textContent = `Downloading \"${filename}\": `;\n",
              "      div.appendChild(label);\n",
              "      const progress = document.createElement('progress');\n",
              "      progress.max = size;\n",
              "      div.appendChild(progress);\n",
              "      document.body.appendChild(div);\n",
              "\n",
              "      const buffers = [];\n",
              "      let downloaded = 0;\n",
              "\n",
              "      const channel = await google.colab.kernel.comms.open(id);\n",
              "      // Send a message to notify the kernel that we're ready.\n",
              "      channel.send({})\n",
              "\n",
              "      for await (const message of channel.messages) {\n",
              "        // Send a message to notify the kernel that we're ready.\n",
              "        channel.send({})\n",
              "        if (message.buffers) {\n",
              "          for (const buffer of message.buffers) {\n",
              "            buffers.push(buffer);\n",
              "            downloaded += buffer.byteLength;\n",
              "            progress.value = downloaded;\n",
              "          }\n",
              "        }\n",
              "      }\n",
              "      const blob = new Blob(buffers, {type: 'application/binary'});\n",
              "      const a = document.createElement('a');\n",
              "      a.href = window.URL.createObjectURL(blob);\n",
              "      a.download = filename;\n",
              "      div.appendChild(a);\n",
              "      a.click();\n",
              "      div.remove();\n",
              "    }\n",
              "  "
            ]
          },
          "metadata": {}
        },
        {
          "output_type": "display_data",
          "data": {
            "text/plain": [
              "<IPython.core.display.Javascript object>"
            ],
            "application/javascript": [
              "download(\"download_a4bb0ce7-2656-4291-8340-7613b2b4c589\", \"faces_my_example_video.zip\", 3552024)"
            ]
          },
          "metadata": {}
        }
      ]
    },
    {
      "cell_type": "markdown",
      "source": [
        "# GIF"
      ],
      "metadata": {
        "id": "PuEzcsVa4V8a"
      }
    },
    {
      "cell_type": "code",
      "source": [
        "from PIL import Image\n",
        "\n",
        "# ==== Config ====\n",
        "duration = int(1000 / target_fps)\n",
        "input_dir = \"tracked_faces\"\n",
        "output_gif = f\"faces_{file_name.split('.', 1)[0]}.gif\"\n",
        "\n",
        "# ==== Setup ====\n",
        "if not os.path.exists(output_dir):\n",
        "  raise ValueError(f\"{input_dir} folder not found.\")\n",
        "\n",
        "image_files = sorted([\n",
        "    f for f in os.listdir(input_dir)\n",
        "    if f.endswith(('.jpg', '.jpeg', '.png'))\n",
        "])\n",
        "\n",
        "if not image_files:\n",
        "    raise ValueError(f\"No images found in {input_dir}.\")\n",
        "\n",
        "# ==== Main ====\n",
        "if __name__ == \"__main__\":\n",
        "    start_time = time.time()\n",
        "\n",
        "    # Load images into Pillow\n",
        "    frames = []\n",
        "    total_images = len(image_files)\n",
        "    for i, file in enumerate(image_files, 1):\n",
        "        image = Image.open(os.path.join(input_dir, file))\n",
        "        frames.append(image)\n",
        "        print(f\"\\rProgress: {100 * i / total_images:.2f}%\", end=\"\")\n",
        "    print(\"\\rProgress: 100%\")\n",
        "\n",
        "    # GIF\n",
        "    frames[0].save(\n",
        "        output_gif,\n",
        "        format='gif',\n",
        "        save_all=True,\n",
        "        append_images=frames[1:],\n",
        "        duration=duration,\n",
        "        loop=0\n",
        "    )\n",
        "\n",
        "    end_time = time.time()\n",
        "    print(f\"GIF done [{elapsed_time(end_time - start_time)}].\")\n",
        "    print(f\"{output_gif} saved.\")\n",
        "\n",
        "    # Download\n",
        "    files.download(output_gif)"
      ],
      "metadata": {
        "colab": {
          "base_uri": "https://localhost:8080/",
          "height": 69
        },
        "id": "hM6qJibt4WcI",
        "outputId": "7c4cef83-c3eb-4ae1-fd64-378afadf22aa"
      },
      "execution_count": 14,
      "outputs": [
        {
          "output_type": "stream",
          "name": "stdout",
          "text": [
            "\rProgress: 0.43%\rProgress: 0.85%\rProgress: 1.28%\rProgress: 1.70%\rProgress: 2.13%\rProgress: 2.55%\rProgress: 2.98%\rProgress: 3.40%\rProgress: 3.83%\rProgress: 4.26%\rProgress: 4.68%\rProgress: 5.11%\rProgress: 5.53%\rProgress: 5.96%\rProgress: 6.38%\rProgress: 6.81%\rProgress: 7.23%\rProgress: 7.66%\rProgress: 8.09%\rProgress: 8.51%\rProgress: 8.94%\rProgress: 9.36%\rProgress: 9.79%\rProgress: 10.21%\rProgress: 10.64%\rProgress: 11.06%\rProgress: 11.49%\rProgress: 11.91%\rProgress: 12.34%\rProgress: 12.77%\rProgress: 13.19%\rProgress: 13.62%\rProgress: 14.04%\rProgress: 14.47%\rProgress: 14.89%\rProgress: 15.32%\rProgress: 15.74%\rProgress: 16.17%\rProgress: 16.60%\rProgress: 17.02%\rProgress: 17.45%\rProgress: 17.87%\rProgress: 18.30%\rProgress: 18.72%\rProgress: 19.15%\rProgress: 19.57%\rProgress: 20.00%\rProgress: 20.43%\rProgress: 20.85%\rProgress: 21.28%\rProgress: 21.70%\rProgress: 22.13%\rProgress: 22.55%\rProgress: 22.98%\rProgress: 23.40%\rProgress: 23.83%\rProgress: 24.26%\rProgress: 24.68%\rProgress: 25.11%\rProgress: 25.53%\rProgress: 25.96%\rProgress: 26.38%\rProgress: 26.81%\rProgress: 27.23%\rProgress: 27.66%\rProgress: 28.09%\rProgress: 28.51%\rProgress: 28.94%\rProgress: 29.36%\rProgress: 29.79%\rProgress: 30.21%\rProgress: 30.64%\rProgress: 31.06%\rProgress: 31.49%\rProgress: 31.91%\rProgress: 32.34%\rProgress: 32.77%\rProgress: 33.19%\rProgress: 33.62%\rProgress: 34.04%\rProgress: 34.47%\rProgress: 34.89%\rProgress: 35.32%\rProgress: 35.74%\rProgress: 36.17%\rProgress: 36.60%\rProgress: 37.02%\rProgress: 37.45%\rProgress: 37.87%\rProgress: 38.30%\rProgress: 38.72%\rProgress: 39.15%\rProgress: 39.57%\rProgress: 40.00%\rProgress: 40.43%\rProgress: 40.85%\rProgress: 41.28%\rProgress: 41.70%\rProgress: 42.13%\rProgress: 42.55%\rProgress: 42.98%\rProgress: 43.40%\rProgress: 43.83%\rProgress: 44.26%\rProgress: 44.68%\rProgress: 45.11%\rProgress: 45.53%\rProgress: 45.96%\rProgress: 46.38%\rProgress: 46.81%\rProgress: 47.23%\rProgress: 47.66%\rProgress: 48.09%\rProgress: 48.51%\rProgress: 48.94%\rProgress: 49.36%\rProgress: 49.79%\rProgress: 50.21%\rProgress: 50.64%\rProgress: 51.06%\rProgress: 51.49%\rProgress: 51.91%\rProgress: 52.34%\rProgress: 52.77%\rProgress: 53.19%\rProgress: 53.62%\rProgress: 54.04%\rProgress: 54.47%\rProgress: 54.89%\rProgress: 55.32%\rProgress: 55.74%\rProgress: 56.17%\rProgress: 56.60%\rProgress: 57.02%\rProgress: 57.45%\rProgress: 57.87%\rProgress: 58.30%\rProgress: 58.72%\rProgress: 59.15%\rProgress: 59.57%\rProgress: 60.00%\rProgress: 60.43%\rProgress: 60.85%\rProgress: 61.28%\rProgress: 61.70%\rProgress: 62.13%\rProgress: 62.55%\rProgress: 62.98%\rProgress: 63.40%\rProgress: 63.83%\rProgress: 64.26%\rProgress: 64.68%\rProgress: 65.11%\rProgress: 65.53%\rProgress: 65.96%\rProgress: 66.38%\rProgress: 66.81%\rProgress: 67.23%\rProgress: 67.66%\rProgress: 68.09%\rProgress: 68.51%\rProgress: 68.94%\rProgress: 69.36%\rProgress: 69.79%\rProgress: 70.21%\rProgress: 70.64%\rProgress: 71.06%\rProgress: 71.49%\rProgress: 71.91%\rProgress: 72.34%\rProgress: 72.77%\rProgress: 73.19%\rProgress: 73.62%\rProgress: 74.04%\rProgress: 74.47%\rProgress: 74.89%\rProgress: 75.32%\rProgress: 75.74%\rProgress: 76.17%\rProgress: 76.60%\rProgress: 77.02%\rProgress: 77.45%\rProgress: 77.87%\rProgress: 78.30%\rProgress: 78.72%\rProgress: 79.15%\rProgress: 79.57%\rProgress: 80.00%\rProgress: 80.43%\rProgress: 80.85%\rProgress: 81.28%\rProgress: 81.70%\rProgress: 82.13%\rProgress: 82.55%\rProgress: 82.98%\rProgress: 83.40%\rProgress: 83.83%\rProgress: 84.26%\rProgress: 84.68%\rProgress: 85.11%\rProgress: 85.53%\rProgress: 85.96%\rProgress: 86.38%\rProgress: 86.81%\rProgress: 87.23%\rProgress: 87.66%\rProgress: 88.09%\rProgress: 88.51%\rProgress: 88.94%\rProgress: 89.36%\rProgress: 89.79%\rProgress: 90.21%\rProgress: 90.64%\rProgress: 91.06%\rProgress: 91.49%\rProgress: 91.91%\rProgress: 92.34%\rProgress: 92.77%\rProgress: 93.19%\rProgress: 93.62%\rProgress: 94.04%\rProgress: 94.47%\rProgress: 94.89%\rProgress: 95.32%\rProgress: 95.74%\rProgress: 96.17%\rProgress: 96.60%\rProgress: 97.02%\rProgress: 97.45%\rProgress: 97.87%\rProgress: 98.30%\rProgress: 98.72%\rProgress: 99.15%\rProgress: 99.57%\rProgress: 100.00%\rProgress: 100%\n",
            "GIF done [11.67 s].\n",
            "faces_my_example_video.gif saved.\n"
          ]
        },
        {
          "output_type": "display_data",
          "data": {
            "text/plain": [
              "<IPython.core.display.Javascript object>"
            ],
            "application/javascript": [
              "\n",
              "    async function download(id, filename, size) {\n",
              "      if (!google.colab.kernel.accessAllowed) {\n",
              "        return;\n",
              "      }\n",
              "      const div = document.createElement('div');\n",
              "      const label = document.createElement('label');\n",
              "      label.textContent = `Downloading \"${filename}\": `;\n",
              "      div.appendChild(label);\n",
              "      const progress = document.createElement('progress');\n",
              "      progress.max = size;\n",
              "      div.appendChild(progress);\n",
              "      document.body.appendChild(div);\n",
              "\n",
              "      const buffers = [];\n",
              "      let downloaded = 0;\n",
              "\n",
              "      const channel = await google.colab.kernel.comms.open(id);\n",
              "      // Send a message to notify the kernel that we're ready.\n",
              "      channel.send({})\n",
              "\n",
              "      for await (const message of channel.messages) {\n",
              "        // Send a message to notify the kernel that we're ready.\n",
              "        channel.send({})\n",
              "        if (message.buffers) {\n",
              "          for (const buffer of message.buffers) {\n",
              "            buffers.push(buffer);\n",
              "            downloaded += buffer.byteLength;\n",
              "            progress.value = downloaded;\n",
              "          }\n",
              "        }\n",
              "      }\n",
              "      const blob = new Blob(buffers, {type: 'application/binary'});\n",
              "      const a = document.createElement('a');\n",
              "      a.href = window.URL.createObjectURL(blob);\n",
              "      a.download = filename;\n",
              "      div.appendChild(a);\n",
              "      a.click();\n",
              "      div.remove();\n",
              "    }\n",
              "  "
            ]
          },
          "metadata": {}
        },
        {
          "output_type": "display_data",
          "data": {
            "text/plain": [
              "<IPython.core.display.Javascript object>"
            ],
            "application/javascript": [
              "download(\"download_14a7d09a-25f2-4f26-8160-93fe2b662ed3\", \"faces_my_example_video.gif\", 7590793)"
            ]
          },
          "metadata": {}
        }
      ]
    }
  ]
}