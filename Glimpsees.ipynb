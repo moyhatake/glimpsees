{
  "nbformat": 4,
  "nbformat_minor": 0,
  "metadata": {
    "colab": {
      "provenance": []
    },
    "kernelspec": {
      "name": "python3",
      "display_name": "Python 3"
    },
    "language_info": {
      "name": "python"
    },
    "widgets": {
      "application/vnd.jupyter.widget-state+json": {
        "a8bb28e6358648e8a793d5fc22586286": {
          "model_module": "@jupyter-widgets/controls",
          "model_name": "HBoxModel",
          "model_module_version": "1.5.0",
          "state": {
            "_dom_classes": [],
            "_model_module": "@jupyter-widgets/controls",
            "_model_module_version": "1.5.0",
            "_model_name": "HBoxModel",
            "_view_count": null,
            "_view_module": "@jupyter-widgets/controls",
            "_view_module_version": "1.5.0",
            "_view_name": "HBoxView",
            "box_style": "",
            "children": [
              "IPY_MODEL_74615f4df3c7412fb6f2f5d78a7cf19d",
              "IPY_MODEL_207cfa0a6bb542ebb42bffc4e8ad6e48",
              "IPY_MODEL_b4381da45da5445a811143fec1a42d58"
            ],
            "layout": "IPY_MODEL_d27273b91cd9464e8c75fe8c274621c7"
          }
        },
        "74615f4df3c7412fb6f2f5d78a7cf19d": {
          "model_module": "@jupyter-widgets/controls",
          "model_name": "HTMLModel",
          "model_module_version": "1.5.0",
          "state": {
            "_dom_classes": [],
            "_model_module": "@jupyter-widgets/controls",
            "_model_module_version": "1.5.0",
            "_model_name": "HTMLModel",
            "_view_count": null,
            "_view_module": "@jupyter-widgets/controls",
            "_view_module_version": "1.5.0",
            "_view_name": "HTMLView",
            "description": "",
            "description_tooltip": null,
            "layout": "IPY_MODEL_dcfd52994cb04a9fa7cfda2399a97377",
            "placeholder": "​",
            "style": "IPY_MODEL_5132085e1716499c8e3a08884cc2288c",
            "value": "Tracking frames: 100%"
          }
        },
        "207cfa0a6bb542ebb42bffc4e8ad6e48": {
          "model_module": "@jupyter-widgets/controls",
          "model_name": "FloatProgressModel",
          "model_module_version": "1.5.0",
          "state": {
            "_dom_classes": [],
            "_model_module": "@jupyter-widgets/controls",
            "_model_module_version": "1.5.0",
            "_model_name": "FloatProgressModel",
            "_view_count": null,
            "_view_module": "@jupyter-widgets/controls",
            "_view_module_version": "1.5.0",
            "_view_name": "ProgressView",
            "bar_style": "",
            "description": "",
            "description_tooltip": null,
            "layout": "IPY_MODEL_9441def41a1d46c4a1285003fc69e28f",
            "max": 103,
            "min": 0,
            "orientation": "horizontal",
            "style": "IPY_MODEL_9094c395c9be4fbfa269369cc2aa08b5",
            "value": 103
          }
        },
        "b4381da45da5445a811143fec1a42d58": {
          "model_module": "@jupyter-widgets/controls",
          "model_name": "HTMLModel",
          "model_module_version": "1.5.0",
          "state": {
            "_dom_classes": [],
            "_model_module": "@jupyter-widgets/controls",
            "_model_module_version": "1.5.0",
            "_model_name": "HTMLModel",
            "_view_count": null,
            "_view_module": "@jupyter-widgets/controls",
            "_view_module_version": "1.5.0",
            "_view_name": "HTMLView",
            "description": "",
            "description_tooltip": null,
            "layout": "IPY_MODEL_dfb1ef5ed46f4d519cfd15a99d22a454",
            "placeholder": "​",
            "style": "IPY_MODEL_a3a797a285714050b19190198bc3a1d4",
            "value": " 103/103 [00:12&lt;00:00,  8.92it/s]"
          }
        },
        "d27273b91cd9464e8c75fe8c274621c7": {
          "model_module": "@jupyter-widgets/base",
          "model_name": "LayoutModel",
          "model_module_version": "1.2.0",
          "state": {
            "_model_module": "@jupyter-widgets/base",
            "_model_module_version": "1.2.0",
            "_model_name": "LayoutModel",
            "_view_count": null,
            "_view_module": "@jupyter-widgets/base",
            "_view_module_version": "1.2.0",
            "_view_name": "LayoutView",
            "align_content": null,
            "align_items": null,
            "align_self": null,
            "border": null,
            "bottom": null,
            "display": null,
            "flex": null,
            "flex_flow": null,
            "grid_area": null,
            "grid_auto_columns": null,
            "grid_auto_flow": null,
            "grid_auto_rows": null,
            "grid_column": null,
            "grid_gap": null,
            "grid_row": null,
            "grid_template_areas": null,
            "grid_template_columns": null,
            "grid_template_rows": null,
            "height": null,
            "justify_content": null,
            "justify_items": null,
            "left": null,
            "margin": null,
            "max_height": null,
            "max_width": null,
            "min_height": null,
            "min_width": null,
            "object_fit": null,
            "object_position": null,
            "order": null,
            "overflow": null,
            "overflow_x": null,
            "overflow_y": null,
            "padding": null,
            "right": null,
            "top": null,
            "visibility": null,
            "width": null
          }
        },
        "dcfd52994cb04a9fa7cfda2399a97377": {
          "model_module": "@jupyter-widgets/base",
          "model_name": "LayoutModel",
          "model_module_version": "1.2.0",
          "state": {
            "_model_module": "@jupyter-widgets/base",
            "_model_module_version": "1.2.0",
            "_model_name": "LayoutModel",
            "_view_count": null,
            "_view_module": "@jupyter-widgets/base",
            "_view_module_version": "1.2.0",
            "_view_name": "LayoutView",
            "align_content": null,
            "align_items": null,
            "align_self": null,
            "border": null,
            "bottom": null,
            "display": null,
            "flex": null,
            "flex_flow": null,
            "grid_area": null,
            "grid_auto_columns": null,
            "grid_auto_flow": null,
            "grid_auto_rows": null,
            "grid_column": null,
            "grid_gap": null,
            "grid_row": null,
            "grid_template_areas": null,
            "grid_template_columns": null,
            "grid_template_rows": null,
            "height": null,
            "justify_content": null,
            "justify_items": null,
            "left": null,
            "margin": null,
            "max_height": null,
            "max_width": null,
            "min_height": null,
            "min_width": null,
            "object_fit": null,
            "object_position": null,
            "order": null,
            "overflow": null,
            "overflow_x": null,
            "overflow_y": null,
            "padding": null,
            "right": null,
            "top": null,
            "visibility": null,
            "width": null
          }
        },
        "5132085e1716499c8e3a08884cc2288c": {
          "model_module": "@jupyter-widgets/controls",
          "model_name": "DescriptionStyleModel",
          "model_module_version": "1.5.0",
          "state": {
            "_model_module": "@jupyter-widgets/controls",
            "_model_module_version": "1.5.0",
            "_model_name": "DescriptionStyleModel",
            "_view_count": null,
            "_view_module": "@jupyter-widgets/base",
            "_view_module_version": "1.2.0",
            "_view_name": "StyleView",
            "description_width": ""
          }
        },
        "9441def41a1d46c4a1285003fc69e28f": {
          "model_module": "@jupyter-widgets/base",
          "model_name": "LayoutModel",
          "model_module_version": "1.2.0",
          "state": {
            "_model_module": "@jupyter-widgets/base",
            "_model_module_version": "1.2.0",
            "_model_name": "LayoutModel",
            "_view_count": null,
            "_view_module": "@jupyter-widgets/base",
            "_view_module_version": "1.2.0",
            "_view_name": "LayoutView",
            "align_content": null,
            "align_items": null,
            "align_self": null,
            "border": null,
            "bottom": null,
            "display": null,
            "flex": null,
            "flex_flow": null,
            "grid_area": null,
            "grid_auto_columns": null,
            "grid_auto_flow": null,
            "grid_auto_rows": null,
            "grid_column": null,
            "grid_gap": null,
            "grid_row": null,
            "grid_template_areas": null,
            "grid_template_columns": null,
            "grid_template_rows": null,
            "height": null,
            "justify_content": null,
            "justify_items": null,
            "left": null,
            "margin": null,
            "max_height": null,
            "max_width": null,
            "min_height": null,
            "min_width": null,
            "object_fit": null,
            "object_position": null,
            "order": null,
            "overflow": null,
            "overflow_x": null,
            "overflow_y": null,
            "padding": null,
            "right": null,
            "top": null,
            "visibility": null,
            "width": null
          }
        },
        "9094c395c9be4fbfa269369cc2aa08b5": {
          "model_module": "@jupyter-widgets/controls",
          "model_name": "ProgressStyleModel",
          "model_module_version": "1.5.0",
          "state": {
            "_model_module": "@jupyter-widgets/controls",
            "_model_module_version": "1.5.0",
            "_model_name": "ProgressStyleModel",
            "_view_count": null,
            "_view_module": "@jupyter-widgets/base",
            "_view_module_version": "1.2.0",
            "_view_name": "StyleView",
            "bar_color": null,
            "description_width": ""
          }
        },
        "dfb1ef5ed46f4d519cfd15a99d22a454": {
          "model_module": "@jupyter-widgets/base",
          "model_name": "LayoutModel",
          "model_module_version": "1.2.0",
          "state": {
            "_model_module": "@jupyter-widgets/base",
            "_model_module_version": "1.2.0",
            "_model_name": "LayoutModel",
            "_view_count": null,
            "_view_module": "@jupyter-widgets/base",
            "_view_module_version": "1.2.0",
            "_view_name": "LayoutView",
            "align_content": null,
            "align_items": null,
            "align_self": null,
            "border": null,
            "bottom": null,
            "display": null,
            "flex": null,
            "flex_flow": null,
            "grid_area": null,
            "grid_auto_columns": null,
            "grid_auto_flow": null,
            "grid_auto_rows": null,
            "grid_column": null,
            "grid_gap": null,
            "grid_row": null,
            "grid_template_areas": null,
            "grid_template_columns": null,
            "grid_template_rows": null,
            "height": null,
            "justify_content": null,
            "justify_items": null,
            "left": null,
            "margin": null,
            "max_height": null,
            "max_width": null,
            "min_height": null,
            "min_width": null,
            "object_fit": null,
            "object_position": null,
            "order": null,
            "overflow": null,
            "overflow_x": null,
            "overflow_y": null,
            "padding": null,
            "right": null,
            "top": null,
            "visibility": null,
            "width": null
          }
        },
        "a3a797a285714050b19190198bc3a1d4": {
          "model_module": "@jupyter-widgets/controls",
          "model_name": "DescriptionStyleModel",
          "model_module_version": "1.5.0",
          "state": {
            "_model_module": "@jupyter-widgets/controls",
            "_model_module_version": "1.5.0",
            "_model_name": "DescriptionStyleModel",
            "_view_count": null,
            "_view_module": "@jupyter-widgets/base",
            "_view_module_version": "1.2.0",
            "_view_name": "StyleView",
            "description_width": ""
          }
        },
        "121e9c083c0e483e929578b288433054": {
          "model_module": "@jupyter-widgets/controls",
          "model_name": "HBoxModel",
          "model_module_version": "1.5.0",
          "state": {
            "_dom_classes": [],
            "_model_module": "@jupyter-widgets/controls",
            "_model_module_version": "1.5.0",
            "_model_name": "HBoxModel",
            "_view_count": null,
            "_view_module": "@jupyter-widgets/controls",
            "_view_module_version": "1.5.0",
            "_view_name": "HBoxView",
            "box_style": "",
            "children": [
              "IPY_MODEL_1d2f94664c474b6189d4841e9c100166",
              "IPY_MODEL_65c8b51873c54738b9e2b75a06966df0",
              "IPY_MODEL_56ea57163d57443490aab736249d2f01"
            ],
            "layout": "IPY_MODEL_11fe76103f2c43728dc97751b8a12afe"
          }
        },
        "1d2f94664c474b6189d4841e9c100166": {
          "model_module": "@jupyter-widgets/controls",
          "model_name": "HTMLModel",
          "model_module_version": "1.5.0",
          "state": {
            "_dom_classes": [],
            "_model_module": "@jupyter-widgets/controls",
            "_model_module_version": "1.5.0",
            "_model_name": "HTMLModel",
            "_view_count": null,
            "_view_module": "@jupyter-widgets/controls",
            "_view_module_version": "1.5.0",
            "_view_name": "HTMLView",
            "description": "",
            "description_tooltip": null,
            "layout": "IPY_MODEL_70dcffab93104c858e84ad50c0796747",
            "placeholder": "​",
            "style": "IPY_MODEL_b1960c6017d945e6a3077e7f38c1761d",
            "value": "Loading frames: 100%"
          }
        },
        "65c8b51873c54738b9e2b75a06966df0": {
          "model_module": "@jupyter-widgets/controls",
          "model_name": "FloatProgressModel",
          "model_module_version": "1.5.0",
          "state": {
            "_dom_classes": [],
            "_model_module": "@jupyter-widgets/controls",
            "_model_module_version": "1.5.0",
            "_model_name": "FloatProgressModel",
            "_view_count": null,
            "_view_module": "@jupyter-widgets/controls",
            "_view_module_version": "1.5.0",
            "_view_name": "ProgressView",
            "bar_style": "success",
            "description": "",
            "description_tooltip": null,
            "layout": "IPY_MODEL_4e0d489084e34b18b0f655fed65b88f3",
            "max": 85,
            "min": 0,
            "orientation": "horizontal",
            "style": "IPY_MODEL_d603199344b544da9074b58c8b0f2575",
            "value": 85
          }
        },
        "56ea57163d57443490aab736249d2f01": {
          "model_module": "@jupyter-widgets/controls",
          "model_name": "HTMLModel",
          "model_module_version": "1.5.0",
          "state": {
            "_dom_classes": [],
            "_model_module": "@jupyter-widgets/controls",
            "_model_module_version": "1.5.0",
            "_model_name": "HTMLModel",
            "_view_count": null,
            "_view_module": "@jupyter-widgets/controls",
            "_view_module_version": "1.5.0",
            "_view_name": "HTMLView",
            "description": "",
            "description_tooltip": null,
            "layout": "IPY_MODEL_0a7abbb571ac41c186270a7fcad0f809",
            "placeholder": "​",
            "style": "IPY_MODEL_008859e306084d7689e0e63cc5ad5ca8",
            "value": " 85/85 [00:00&lt;00:00, 882.42it/s]"
          }
        },
        "11fe76103f2c43728dc97751b8a12afe": {
          "model_module": "@jupyter-widgets/base",
          "model_name": "LayoutModel",
          "model_module_version": "1.2.0",
          "state": {
            "_model_module": "@jupyter-widgets/base",
            "_model_module_version": "1.2.0",
            "_model_name": "LayoutModel",
            "_view_count": null,
            "_view_module": "@jupyter-widgets/base",
            "_view_module_version": "1.2.0",
            "_view_name": "LayoutView",
            "align_content": null,
            "align_items": null,
            "align_self": null,
            "border": null,
            "bottom": null,
            "display": null,
            "flex": null,
            "flex_flow": null,
            "grid_area": null,
            "grid_auto_columns": null,
            "grid_auto_flow": null,
            "grid_auto_rows": null,
            "grid_column": null,
            "grid_gap": null,
            "grid_row": null,
            "grid_template_areas": null,
            "grid_template_columns": null,
            "grid_template_rows": null,
            "height": null,
            "justify_content": null,
            "justify_items": null,
            "left": null,
            "margin": null,
            "max_height": null,
            "max_width": null,
            "min_height": null,
            "min_width": null,
            "object_fit": null,
            "object_position": null,
            "order": null,
            "overflow": null,
            "overflow_x": null,
            "overflow_y": null,
            "padding": null,
            "right": null,
            "top": null,
            "visibility": null,
            "width": null
          }
        },
        "70dcffab93104c858e84ad50c0796747": {
          "model_module": "@jupyter-widgets/base",
          "model_name": "LayoutModel",
          "model_module_version": "1.2.0",
          "state": {
            "_model_module": "@jupyter-widgets/base",
            "_model_module_version": "1.2.0",
            "_model_name": "LayoutModel",
            "_view_count": null,
            "_view_module": "@jupyter-widgets/base",
            "_view_module_version": "1.2.0",
            "_view_name": "LayoutView",
            "align_content": null,
            "align_items": null,
            "align_self": null,
            "border": null,
            "bottom": null,
            "display": null,
            "flex": null,
            "flex_flow": null,
            "grid_area": null,
            "grid_auto_columns": null,
            "grid_auto_flow": null,
            "grid_auto_rows": null,
            "grid_column": null,
            "grid_gap": null,
            "grid_row": null,
            "grid_template_areas": null,
            "grid_template_columns": null,
            "grid_template_rows": null,
            "height": null,
            "justify_content": null,
            "justify_items": null,
            "left": null,
            "margin": null,
            "max_height": null,
            "max_width": null,
            "min_height": null,
            "min_width": null,
            "object_fit": null,
            "object_position": null,
            "order": null,
            "overflow": null,
            "overflow_x": null,
            "overflow_y": null,
            "padding": null,
            "right": null,
            "top": null,
            "visibility": null,
            "width": null
          }
        },
        "b1960c6017d945e6a3077e7f38c1761d": {
          "model_module": "@jupyter-widgets/controls",
          "model_name": "DescriptionStyleModel",
          "model_module_version": "1.5.0",
          "state": {
            "_model_module": "@jupyter-widgets/controls",
            "_model_module_version": "1.5.0",
            "_model_name": "DescriptionStyleModel",
            "_view_count": null,
            "_view_module": "@jupyter-widgets/base",
            "_view_module_version": "1.2.0",
            "_view_name": "StyleView",
            "description_width": ""
          }
        },
        "4e0d489084e34b18b0f655fed65b88f3": {
          "model_module": "@jupyter-widgets/base",
          "model_name": "LayoutModel",
          "model_module_version": "1.2.0",
          "state": {
            "_model_module": "@jupyter-widgets/base",
            "_model_module_version": "1.2.0",
            "_model_name": "LayoutModel",
            "_view_count": null,
            "_view_module": "@jupyter-widgets/base",
            "_view_module_version": "1.2.0",
            "_view_name": "LayoutView",
            "align_content": null,
            "align_items": null,
            "align_self": null,
            "border": null,
            "bottom": null,
            "display": null,
            "flex": null,
            "flex_flow": null,
            "grid_area": null,
            "grid_auto_columns": null,
            "grid_auto_flow": null,
            "grid_auto_rows": null,
            "grid_column": null,
            "grid_gap": null,
            "grid_row": null,
            "grid_template_areas": null,
            "grid_template_columns": null,
            "grid_template_rows": null,
            "height": null,
            "justify_content": null,
            "justify_items": null,
            "left": null,
            "margin": null,
            "max_height": null,
            "max_width": null,
            "min_height": null,
            "min_width": null,
            "object_fit": null,
            "object_position": null,
            "order": null,
            "overflow": null,
            "overflow_x": null,
            "overflow_y": null,
            "padding": null,
            "right": null,
            "top": null,
            "visibility": null,
            "width": null
          }
        },
        "d603199344b544da9074b58c8b0f2575": {
          "model_module": "@jupyter-widgets/controls",
          "model_name": "ProgressStyleModel",
          "model_module_version": "1.5.0",
          "state": {
            "_model_module": "@jupyter-widgets/controls",
            "_model_module_version": "1.5.0",
            "_model_name": "ProgressStyleModel",
            "_view_count": null,
            "_view_module": "@jupyter-widgets/base",
            "_view_module_version": "1.2.0",
            "_view_name": "StyleView",
            "bar_color": null,
            "description_width": ""
          }
        },
        "0a7abbb571ac41c186270a7fcad0f809": {
          "model_module": "@jupyter-widgets/base",
          "model_name": "LayoutModel",
          "model_module_version": "1.2.0",
          "state": {
            "_model_module": "@jupyter-widgets/base",
            "_model_module_version": "1.2.0",
            "_model_name": "LayoutModel",
            "_view_count": null,
            "_view_module": "@jupyter-widgets/base",
            "_view_module_version": "1.2.0",
            "_view_name": "LayoutView",
            "align_content": null,
            "align_items": null,
            "align_self": null,
            "border": null,
            "bottom": null,
            "display": null,
            "flex": null,
            "flex_flow": null,
            "grid_area": null,
            "grid_auto_columns": null,
            "grid_auto_flow": null,
            "grid_auto_rows": null,
            "grid_column": null,
            "grid_gap": null,
            "grid_row": null,
            "grid_template_areas": null,
            "grid_template_columns": null,
            "grid_template_rows": null,
            "height": null,
            "justify_content": null,
            "justify_items": null,
            "left": null,
            "margin": null,
            "max_height": null,
            "max_width": null,
            "min_height": null,
            "min_width": null,
            "object_fit": null,
            "object_position": null,
            "order": null,
            "overflow": null,
            "overflow_x": null,
            "overflow_y": null,
            "padding": null,
            "right": null,
            "top": null,
            "visibility": null,
            "width": null
          }
        },
        "008859e306084d7689e0e63cc5ad5ca8": {
          "model_module": "@jupyter-widgets/controls",
          "model_name": "DescriptionStyleModel",
          "model_module_version": "1.5.0",
          "state": {
            "_model_module": "@jupyter-widgets/controls",
            "_model_module_version": "1.5.0",
            "_model_name": "DescriptionStyleModel",
            "_view_count": null,
            "_view_module": "@jupyter-widgets/base",
            "_view_module_version": "1.2.0",
            "_view_name": "StyleView",
            "description_width": ""
          }
        }
      }
    }
  },
  "cells": [
    {
      "cell_type": "markdown",
      "source": [
        "# Instructions\n",
        "### 1. Upload your video file.\n",
        "### 2. Run the **Libs** command.\n",
        "### 3. On **Pre-config** match the `file_name` variable to the uploaded video's filename.\n",
        "This var will be used for the final downloadable ZIP and GIF (if desired) files (e.g., `faces_my_example_video.zip`, `faces_my_example_video.gif`).\n",
        "\n",
        "### 4. On **FPS** set a custom value (optional).\n",
        "Do not change it to use original video's FPS.\n",
        "\n",
        "### 5. Run the **App** script.\n",
        "### 6. Run the **GIF** script (optional)."
      ],
      "metadata": {
        "id": "ObQ8oz1iWH9C"
      }
    },
    {
      "cell_type": "markdown",
      "source": [
        "# Libs"
      ],
      "metadata": {
        "id": "wOZkuSJmh44I"
      }
    },
    {
      "cell_type": "code",
      "source": [
        "!pip install opencv-python dlib tqdm"
      ],
      "metadata": {
        "colab": {
          "base_uri": "https://localhost:8080/"
        },
        "id": "r-0lbtofh9cA",
        "outputId": "1f62002b-b9a1-494e-f55e-8b49b4e03006"
      },
      "execution_count": 1,
      "outputs": [
        {
          "output_type": "stream",
          "name": "stdout",
          "text": [
            "Requirement already satisfied: opencv-python in /usr/local/lib/python3.11/dist-packages (4.12.0.88)\n",
            "Requirement already satisfied: dlib in /usr/local/lib/python3.11/dist-packages (19.24.6)\n",
            "Requirement already satisfied: tqdm in /usr/local/lib/python3.11/dist-packages (4.67.1)\n",
            "Requirement already satisfied: numpy<2.3.0,>=2 in /usr/local/lib/python3.11/dist-packages (from opencv-python) (2.0.2)\n"
          ]
        }
      ]
    },
    {
      "cell_type": "markdown",
      "source": [
        "# Pre-config"
      ],
      "metadata": {
        "id": "NZ287xs_edo9"
      }
    },
    {
      "cell_type": "code",
      "source": [
        "file_name = \"my_example_video.mp4\"\n",
        "square_size = 200   # Final saved image size in pixels (after resize)\n",
        "face_padding = 0.25 # Padding (%) to include around the face crop\n",
        "resize_crop = True  # Resize face to fit square size"
      ],
      "metadata": {
        "id": "kbp0QoPEehDU"
      },
      "execution_count": 3,
      "outputs": []
    },
    {
      "cell_type": "markdown",
      "source": [
        "# Frames per second (FPS)"
      ],
      "metadata": {
        "id": "_zK36zYQi-dC"
      }
    },
    {
      "cell_type": "code",
      "source": [
        "import cv2\n",
        "\n",
        "cap = cv2.VideoCapture(file_name)\n",
        "original_fps = cap.get(cv2.CAP_PROP_FPS)\n",
        "target_fps = original_fps\n",
        "\n",
        "print(f\"Original FPS: {original_fps}\")\n",
        "print(f\"Target FPS: {target_fps}\")\n",
        "\n",
        "# Double check your custom FPS (if apply) meets next condition:\n",
        "# 0 < target_fps <= original_fps\n",
        "\n",
        "# Note: The less target_fps is the more frames skipped"
      ],
      "metadata": {
        "colab": {
          "base_uri": "https://localhost:8080/"
        },
        "id": "imnWjOh8fl84",
        "outputId": "6da5559e-6d33-4959-986d-29ee51f018a1"
      },
      "execution_count": 4,
      "outputs": [
        {
          "output_type": "stream",
          "name": "stdout",
          "text": [
            "Original FPS: 23.976023976023978\n",
            "Target FPS: 23.976023976023978\n"
          ]
        }
      ]
    },
    {
      "cell_type": "markdown",
      "source": [
        "# App"
      ],
      "metadata": {
        "id": "ix-H8ZYxhS7S"
      }
    },
    {
      "cell_type": "code",
      "source": [
        "import os\n",
        "import time\n",
        "import dlib\n",
        "import shutil\n",
        "from tqdm.notebook import tqdm\n",
        "from google.colab import files\n",
        "\n",
        "# ==== Setup ====\n",
        "detector = dlib.get_frontal_face_detector()\n",
        "\n",
        "output_dir = \"tracked_faces\"\n",
        "output_zip = f\"faces_{file_name.split('.', 1)[0]}\"\n",
        "frame_interval = max(1, int(original_fps // target_fps))\n",
        "total_frames = int(cap.get(cv2.CAP_PROP_FRAME_COUNT))\n",
        "pbar = tqdm(total=total_frames, desc=\"Tracking frames\")\n",
        "\n",
        "if os.path.exists(output_dir):\n",
        "    shutil.rmtree(output_dir)\n",
        "os.makedirs(output_dir)\n",
        "\n",
        "# ==== Helpers ====\n",
        "def elapsed_time(seconds):\n",
        "    if not isinstance(seconds, (int, float)) or seconds < 0:\n",
        "        return \"Bad time value\"\n",
        "\n",
        "    if seconds < 60:\n",
        "        return f\"{seconds:.2f} s\"\n",
        "    elif seconds < 3600:\n",
        "        minutes = seconds / 60\n",
        "        return f\"{minutes:.2f} m\"\n",
        "    else:\n",
        "        hours = seconds / 3600\n",
        "        return f\"{hours:.2f} h\"\n",
        "\n",
        "def as_cover(image):\n",
        "    # Get current crop dimensions\n",
        "    h, w = image.shape[:2]\n",
        "\n",
        "    # Calculate difference to crop to square (centered)\n",
        "    if w > h:\n",
        "        offset = (w - h) // 2\n",
        "        return image[:, offset:offset + h]\n",
        "    elif h > w:\n",
        "        offset = (h - w) // 2\n",
        "        return image[offset:offset + w, :]\n",
        "    return image\n",
        "\n",
        "# ==== App ====\n",
        "def tracker(target_fps, original_fps):\n",
        "  if not (0 < target_fps <= original_fps):\n",
        "    target_fps = original_fps  # Fallback to full speed\n",
        "\n",
        "  frame_step = original_fps / target_fps\n",
        "  next_frame = 0.0\n",
        "  frame_count = 0\n",
        "\n",
        "  while cap.isOpened():\n",
        "      ret, frame = cap.read()\n",
        "      if not ret:\n",
        "          break\n",
        "\n",
        "      if frame_count >= int(next_frame):\n",
        "          gray = cv2.cvtColor(frame, cv2.COLOR_BGR2GRAY)\n",
        "          faces = detector(gray)\n",
        "\n",
        "          if len(faces) > 0:\n",
        "              # Use first face\n",
        "              face = faces[0]\n",
        "              x, y, w, h = face.left(), face.top(), face.width(), face.height()\n",
        "\n",
        "              # Center point of face\n",
        "              cx, cy = x + w // 2, y + h // 2\n",
        "\n",
        "              # Square crop: half of face box + padding\n",
        "              half = int(max(w, h) * (1 + face_padding)) // 2\n",
        "\n",
        "              # Compute crop bounds\n",
        "              left   = max(cx - half, 0)\n",
        "              top    = max(cy - half, 0)\n",
        "              right  = min(cx + half, frame.shape[1])\n",
        "              bottom = min(cy + half, frame.shape[0])\n",
        "\n",
        "              face_crop = frame[top:bottom, left:right]\n",
        "\n",
        "              if resize_crop:\n",
        "                  # 1:1 ratio\n",
        "                  face_crop = as_cover(face_crop)\n",
        "                  # Resize the potentially cropped face to the square size\n",
        "                  face_crop = cv2.resize(face_crop, (square_size, square_size))\n",
        "\n",
        "              filename = os.path.join(output_dir, f\"frame_{frame_count:04d}.jpg\")\n",
        "              cv2.imwrite(filename, face_crop)\n",
        "\n",
        "          next_frame += frame_step\n",
        "\n",
        "      frame_count += 1\n",
        "      pbar.update(1)  # Update progress bar by 1 frame\n",
        "\n",
        "  cap.release()\n",
        "\n",
        "# ==== Main ====\n",
        "if __name__ == \"__main__\":\n",
        "    start_time = time.time()\n",
        "    tracker(target_fps, original_fps)\n",
        "    end_time = time.time()\n",
        "    print(f\"Tracking done [{elapsed_time(end_time - start_time)}].\")\n",
        "\n",
        "    # ZIP\n",
        "    shutil.make_archive(output_zip, 'zip', output_dir)\n",
        "    print(f\"{output_zip}.zip saved.\")\n",
        "\n",
        "    # Download\n",
        "    files.download(f\"{output_zip}.zip\")"
      ],
      "metadata": {
        "id": "Vohr9I2bmG6C",
        "colab": {
          "base_uri": "https://localhost:8080/",
          "height": 84,
          "referenced_widgets": [
            "a8bb28e6358648e8a793d5fc22586286",
            "74615f4df3c7412fb6f2f5d78a7cf19d",
            "207cfa0a6bb542ebb42bffc4e8ad6e48",
            "b4381da45da5445a811143fec1a42d58",
            "d27273b91cd9464e8c75fe8c274621c7",
            "dcfd52994cb04a9fa7cfda2399a97377",
            "5132085e1716499c8e3a08884cc2288c",
            "9441def41a1d46c4a1285003fc69e28f",
            "9094c395c9be4fbfa269369cc2aa08b5",
            "dfb1ef5ed46f4d519cfd15a99d22a454",
            "a3a797a285714050b19190198bc3a1d4"
          ]
        },
        "outputId": "8765172d-c35c-4e63-ed7d-88c6450d0817"
      },
      "execution_count": 5,
      "outputs": [
        {
          "output_type": "display_data",
          "data": {
            "text/plain": [
              "Tracking frames:   0%|          | 0/103 [00:00<?, ?it/s]"
            ],
            "application/vnd.jupyter.widget-view+json": {
              "version_major": 2,
              "version_minor": 0,
              "model_id": "a8bb28e6358648e8a793d5fc22586286"
            }
          },
          "metadata": {}
        },
        {
          "output_type": "stream",
          "name": "stdout",
          "text": [
            "Tracking done [12.62 s].\n",
            "faces_my_example_video.zip saved.\n"
          ]
        },
        {
          "output_type": "display_data",
          "data": {
            "text/plain": [
              "<IPython.core.display.Javascript object>"
            ],
            "application/javascript": [
              "\n",
              "    async function download(id, filename, size) {\n",
              "      if (!google.colab.kernel.accessAllowed) {\n",
              "        return;\n",
              "      }\n",
              "      const div = document.createElement('div');\n",
              "      const label = document.createElement('label');\n",
              "      label.textContent = `Downloading \"${filename}\": `;\n",
              "      div.appendChild(label);\n",
              "      const progress = document.createElement('progress');\n",
              "      progress.max = size;\n",
              "      div.appendChild(progress);\n",
              "      document.body.appendChild(div);\n",
              "\n",
              "      const buffers = [];\n",
              "      let downloaded = 0;\n",
              "\n",
              "      const channel = await google.colab.kernel.comms.open(id);\n",
              "      // Send a message to notify the kernel that we're ready.\n",
              "      channel.send({})\n",
              "\n",
              "      for await (const message of channel.messages) {\n",
              "        // Send a message to notify the kernel that we're ready.\n",
              "        channel.send({})\n",
              "        if (message.buffers) {\n",
              "          for (const buffer of message.buffers) {\n",
              "            buffers.push(buffer);\n",
              "            downloaded += buffer.byteLength;\n",
              "            progress.value = downloaded;\n",
              "          }\n",
              "        }\n",
              "      }\n",
              "      const blob = new Blob(buffers, {type: 'application/binary'});\n",
              "      const a = document.createElement('a');\n",
              "      a.href = window.URL.createObjectURL(blob);\n",
              "      a.download = filename;\n",
              "      div.appendChild(a);\n",
              "      a.click();\n",
              "      div.remove();\n",
              "    }\n",
              "  "
            ]
          },
          "metadata": {}
        },
        {
          "output_type": "display_data",
          "data": {
            "text/plain": [
              "<IPython.core.display.Javascript object>"
            ],
            "application/javascript": [
              "download(\"download_d81ebd28-51b2-4646-a9da-f4a658710cd4\", \"faces_my_example_video.zip\", 1467494)"
            ]
          },
          "metadata": {}
        }
      ]
    },
    {
      "cell_type": "markdown",
      "source": [
        "# GIF"
      ],
      "metadata": {
        "id": "PuEzcsVa4V8a"
      }
    },
    {
      "cell_type": "code",
      "source": [
        "from PIL import Image\n",
        "\n",
        "# ==== Config ====\n",
        "duration = int(1000 / target_fps)\n",
        "input_dir = \"tracked_faces\"\n",
        "output_gif = f\"faces_{file_name.split('.', 1)[0]}.gif\"\n",
        "\n",
        "# ==== Setup ====\n",
        "if not os.path.exists(output_dir):\n",
        "  raise ValueError(f\"{input_dir} folder not found.\")\n",
        "\n",
        "image_files = sorted([\n",
        "    f for f in os.listdir(input_dir)\n",
        "    if f.endswith(('.jpg', '.jpeg', '.png'))\n",
        "])\n",
        "\n",
        "if not image_files:\n",
        "    raise ValueError(f\"No images found in {input_dir}.\")\n",
        "\n",
        "# ==== App ====\n",
        "def gifter():\n",
        "    # Load images into Pillow\n",
        "    frames = []\n",
        "    for f in tqdm(image_files, desc=\"Loading frames\"):\n",
        "        image = Image.open(os.path.join(input_dir, f))\n",
        "        frames.append(image)\n",
        "\n",
        "    # GIF\n",
        "    frames[0].save(\n",
        "        output_gif,\n",
        "        format='gif',\n",
        "        save_all=True,\n",
        "        append_images=frames[1:],\n",
        "        duration=duration,\n",
        "        loop=0\n",
        "    )\n",
        "\n",
        "# ==== Main ====\n",
        "if __name__ == \"__main__\":\n",
        "    start_time = time.time()\n",
        "    gifter()\n",
        "    end_time = time.time()\n",
        "    print(f\"Done [{elapsed_time(end_time - start_time)}].\")\n",
        "    print(f\"{output_gif} saved.\")\n",
        "\n",
        "    # Download\n",
        "    files.download(output_gif)"
      ],
      "metadata": {
        "colab": {
          "base_uri": "https://localhost:8080/",
          "height": 84,
          "referenced_widgets": [
            "121e9c083c0e483e929578b288433054",
            "1d2f94664c474b6189d4841e9c100166",
            "65c8b51873c54738b9e2b75a06966df0",
            "56ea57163d57443490aab736249d2f01",
            "11fe76103f2c43728dc97751b8a12afe",
            "70dcffab93104c858e84ad50c0796747",
            "b1960c6017d945e6a3077e7f38c1761d",
            "4e0d489084e34b18b0f655fed65b88f3",
            "d603199344b544da9074b58c8b0f2575",
            "0a7abbb571ac41c186270a7fcad0f809",
            "008859e306084d7689e0e63cc5ad5ca8"
          ]
        },
        "id": "hM6qJibt4WcI",
        "outputId": "192b9365-bcee-400c-8d02-164229e975c5"
      },
      "execution_count": 6,
      "outputs": [
        {
          "output_type": "display_data",
          "data": {
            "text/plain": [
              "Loading frames:   0%|          | 0/85 [00:00<?, ?it/s]"
            ],
            "application/vnd.jupyter.widget-view+json": {
              "version_major": 2,
              "version_minor": 0,
              "model_id": "121e9c083c0e483e929578b288433054"
            }
          },
          "metadata": {}
        },
        {
          "output_type": "stream",
          "name": "stdout",
          "text": [
            "Done [4.89 s].\n",
            "faces_my_example_video.gif saved.\n"
          ]
        },
        {
          "output_type": "display_data",
          "data": {
            "text/plain": [
              "<IPython.core.display.Javascript object>"
            ],
            "application/javascript": [
              "\n",
              "    async function download(id, filename, size) {\n",
              "      if (!google.colab.kernel.accessAllowed) {\n",
              "        return;\n",
              "      }\n",
              "      const div = document.createElement('div');\n",
              "      const label = document.createElement('label');\n",
              "      label.textContent = `Downloading \"${filename}\": `;\n",
              "      div.appendChild(label);\n",
              "      const progress = document.createElement('progress');\n",
              "      progress.max = size;\n",
              "      div.appendChild(progress);\n",
              "      document.body.appendChild(div);\n",
              "\n",
              "      const buffers = [];\n",
              "      let downloaded = 0;\n",
              "\n",
              "      const channel = await google.colab.kernel.comms.open(id);\n",
              "      // Send a message to notify the kernel that we're ready.\n",
              "      channel.send({})\n",
              "\n",
              "      for await (const message of channel.messages) {\n",
              "        // Send a message to notify the kernel that we're ready.\n",
              "        channel.send({})\n",
              "        if (message.buffers) {\n",
              "          for (const buffer of message.buffers) {\n",
              "            buffers.push(buffer);\n",
              "            downloaded += buffer.byteLength;\n",
              "            progress.value = downloaded;\n",
              "          }\n",
              "        }\n",
              "      }\n",
              "      const blob = new Blob(buffers, {type: 'application/binary'});\n",
              "      const a = document.createElement('a');\n",
              "      a.href = window.URL.createObjectURL(blob);\n",
              "      a.download = filename;\n",
              "      div.appendChild(a);\n",
              "      a.click();\n",
              "      div.remove();\n",
              "    }\n",
              "  "
            ]
          },
          "metadata": {}
        },
        {
          "output_type": "display_data",
          "data": {
            "text/plain": [
              "<IPython.core.display.Javascript object>"
            ],
            "application/javascript": [
              "download(\"download_8fac2c4e-67d6-46f3-9c6f-c9b9b5df8c6e\", \"faces_my_example_video.gif\", 2915964)"
            ]
          },
          "metadata": {}
        }
      ]
    }
  ]
}