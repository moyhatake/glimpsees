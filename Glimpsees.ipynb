{
  "nbformat": 4,
  "nbformat_minor": 0,
  "metadata": {
    "colab": {
      "provenance": []
    },
    "kernelspec": {
      "name": "python3",
      "display_name": "Python 3"
    },
    "language_info": {
      "name": "python"
    },
    "widgets": {
      "application/vnd.jupyter.widget-state+json": {
        "22e38425e75f4690b8ca91f7d8f1c39a": {
          "model_module": "@jupyter-widgets/controls",
          "model_name": "HBoxModel",
          "model_module_version": "1.5.0",
          "state": {
            "_dom_classes": [],
            "_model_module": "@jupyter-widgets/controls",
            "_model_module_version": "1.5.0",
            "_model_name": "HBoxModel",
            "_view_count": null,
            "_view_module": "@jupyter-widgets/controls",
            "_view_module_version": "1.5.0",
            "_view_name": "HBoxView",
            "box_style": "",
            "children": [
              "IPY_MODEL_aa8c3c504c3142069dfd2a384c1fcc2b",
              "IPY_MODEL_b7e40a496be94759aa1ca2d40d7630f5",
              "IPY_MODEL_9c9925c33f3d44518aebe52089589861"
            ],
            "layout": "IPY_MODEL_a89785decbb04059be8d7d6db90d556d"
          }
        },
        "aa8c3c504c3142069dfd2a384c1fcc2b": {
          "model_module": "@jupyter-widgets/controls",
          "model_name": "HTMLModel",
          "model_module_version": "1.5.0",
          "state": {
            "_dom_classes": [],
            "_model_module": "@jupyter-widgets/controls",
            "_model_module_version": "1.5.0",
            "_model_name": "HTMLModel",
            "_view_count": null,
            "_view_module": "@jupyter-widgets/controls",
            "_view_module_version": "1.5.0",
            "_view_name": "HTMLView",
            "description": "",
            "description_tooltip": null,
            "layout": "IPY_MODEL_e582a1c56a954317a08353f363f27321",
            "placeholder": "​",
            "style": "IPY_MODEL_b73113885af74bbd8ca9a2616dd3b4f9",
            "value": "Tracking frames: 100%"
          }
        },
        "b7e40a496be94759aa1ca2d40d7630f5": {
          "model_module": "@jupyter-widgets/controls",
          "model_name": "FloatProgressModel",
          "model_module_version": "1.5.0",
          "state": {
            "_dom_classes": [],
            "_model_module": "@jupyter-widgets/controls",
            "_model_module_version": "1.5.0",
            "_model_name": "FloatProgressModel",
            "_view_count": null,
            "_view_module": "@jupyter-widgets/controls",
            "_view_module_version": "1.5.0",
            "_view_name": "ProgressView",
            "bar_style": "",
            "description": "",
            "description_tooltip": null,
            "layout": "IPY_MODEL_718a3442a21941ba8160181004e292ef",
            "max": 103,
            "min": 0,
            "orientation": "horizontal",
            "style": "IPY_MODEL_f3f062551bc44e8e986e5a8ce24cf1a4",
            "value": 103
          }
        },
        "9c9925c33f3d44518aebe52089589861": {
          "model_module": "@jupyter-widgets/controls",
          "model_name": "HTMLModel",
          "model_module_version": "1.5.0",
          "state": {
            "_dom_classes": [],
            "_model_module": "@jupyter-widgets/controls",
            "_model_module_version": "1.5.0",
            "_model_name": "HTMLModel",
            "_view_count": null,
            "_view_module": "@jupyter-widgets/controls",
            "_view_module_version": "1.5.0",
            "_view_name": "HTMLView",
            "description": "",
            "description_tooltip": null,
            "layout": "IPY_MODEL_904115b8882a488e9cb02d7c0f7df50c",
            "placeholder": "​",
            "style": "IPY_MODEL_0ff44d9f01d745e3b437689447b904ae",
            "value": " 103/103 [00:14&lt;00:00,  5.36it/s]"
          }
        },
        "a89785decbb04059be8d7d6db90d556d": {
          "model_module": "@jupyter-widgets/base",
          "model_name": "LayoutModel",
          "model_module_version": "1.2.0",
          "state": {
            "_model_module": "@jupyter-widgets/base",
            "_model_module_version": "1.2.0",
            "_model_name": "LayoutModel",
            "_view_count": null,
            "_view_module": "@jupyter-widgets/base",
            "_view_module_version": "1.2.0",
            "_view_name": "LayoutView",
            "align_content": null,
            "align_items": null,
            "align_self": null,
            "border": null,
            "bottom": null,
            "display": null,
            "flex": null,
            "flex_flow": null,
            "grid_area": null,
            "grid_auto_columns": null,
            "grid_auto_flow": null,
            "grid_auto_rows": null,
            "grid_column": null,
            "grid_gap": null,
            "grid_row": null,
            "grid_template_areas": null,
            "grid_template_columns": null,
            "grid_template_rows": null,
            "height": null,
            "justify_content": null,
            "justify_items": null,
            "left": null,
            "margin": null,
            "max_height": null,
            "max_width": null,
            "min_height": null,
            "min_width": null,
            "object_fit": null,
            "object_position": null,
            "order": null,
            "overflow": null,
            "overflow_x": null,
            "overflow_y": null,
            "padding": null,
            "right": null,
            "top": null,
            "visibility": null,
            "width": null
          }
        },
        "e582a1c56a954317a08353f363f27321": {
          "model_module": "@jupyter-widgets/base",
          "model_name": "LayoutModel",
          "model_module_version": "1.2.0",
          "state": {
            "_model_module": "@jupyter-widgets/base",
            "_model_module_version": "1.2.0",
            "_model_name": "LayoutModel",
            "_view_count": null,
            "_view_module": "@jupyter-widgets/base",
            "_view_module_version": "1.2.0",
            "_view_name": "LayoutView",
            "align_content": null,
            "align_items": null,
            "align_self": null,
            "border": null,
            "bottom": null,
            "display": null,
            "flex": null,
            "flex_flow": null,
            "grid_area": null,
            "grid_auto_columns": null,
            "grid_auto_flow": null,
            "grid_auto_rows": null,
            "grid_column": null,
            "grid_gap": null,
            "grid_row": null,
            "grid_template_areas": null,
            "grid_template_columns": null,
            "grid_template_rows": null,
            "height": null,
            "justify_content": null,
            "justify_items": null,
            "left": null,
            "margin": null,
            "max_height": null,
            "max_width": null,
            "min_height": null,
            "min_width": null,
            "object_fit": null,
            "object_position": null,
            "order": null,
            "overflow": null,
            "overflow_x": null,
            "overflow_y": null,
            "padding": null,
            "right": null,
            "top": null,
            "visibility": null,
            "width": null
          }
        },
        "b73113885af74bbd8ca9a2616dd3b4f9": {
          "model_module": "@jupyter-widgets/controls",
          "model_name": "DescriptionStyleModel",
          "model_module_version": "1.5.0",
          "state": {
            "_model_module": "@jupyter-widgets/controls",
            "_model_module_version": "1.5.0",
            "_model_name": "DescriptionStyleModel",
            "_view_count": null,
            "_view_module": "@jupyter-widgets/base",
            "_view_module_version": "1.2.0",
            "_view_name": "StyleView",
            "description_width": ""
          }
        },
        "718a3442a21941ba8160181004e292ef": {
          "model_module": "@jupyter-widgets/base",
          "model_name": "LayoutModel",
          "model_module_version": "1.2.0",
          "state": {
            "_model_module": "@jupyter-widgets/base",
            "_model_module_version": "1.2.0",
            "_model_name": "LayoutModel",
            "_view_count": null,
            "_view_module": "@jupyter-widgets/base",
            "_view_module_version": "1.2.0",
            "_view_name": "LayoutView",
            "align_content": null,
            "align_items": null,
            "align_self": null,
            "border": null,
            "bottom": null,
            "display": null,
            "flex": null,
            "flex_flow": null,
            "grid_area": null,
            "grid_auto_columns": null,
            "grid_auto_flow": null,
            "grid_auto_rows": null,
            "grid_column": null,
            "grid_gap": null,
            "grid_row": null,
            "grid_template_areas": null,
            "grid_template_columns": null,
            "grid_template_rows": null,
            "height": null,
            "justify_content": null,
            "justify_items": null,
            "left": null,
            "margin": null,
            "max_height": null,
            "max_width": null,
            "min_height": null,
            "min_width": null,
            "object_fit": null,
            "object_position": null,
            "order": null,
            "overflow": null,
            "overflow_x": null,
            "overflow_y": null,
            "padding": null,
            "right": null,
            "top": null,
            "visibility": null,
            "width": null
          }
        },
        "f3f062551bc44e8e986e5a8ce24cf1a4": {
          "model_module": "@jupyter-widgets/controls",
          "model_name": "ProgressStyleModel",
          "model_module_version": "1.5.0",
          "state": {
            "_model_module": "@jupyter-widgets/controls",
            "_model_module_version": "1.5.0",
            "_model_name": "ProgressStyleModel",
            "_view_count": null,
            "_view_module": "@jupyter-widgets/base",
            "_view_module_version": "1.2.0",
            "_view_name": "StyleView",
            "bar_color": null,
            "description_width": ""
          }
        },
        "904115b8882a488e9cb02d7c0f7df50c": {
          "model_module": "@jupyter-widgets/base",
          "model_name": "LayoutModel",
          "model_module_version": "1.2.0",
          "state": {
            "_model_module": "@jupyter-widgets/base",
            "_model_module_version": "1.2.0",
            "_model_name": "LayoutModel",
            "_view_count": null,
            "_view_module": "@jupyter-widgets/base",
            "_view_module_version": "1.2.0",
            "_view_name": "LayoutView",
            "align_content": null,
            "align_items": null,
            "align_self": null,
            "border": null,
            "bottom": null,
            "display": null,
            "flex": null,
            "flex_flow": null,
            "grid_area": null,
            "grid_auto_columns": null,
            "grid_auto_flow": null,
            "grid_auto_rows": null,
            "grid_column": null,
            "grid_gap": null,
            "grid_row": null,
            "grid_template_areas": null,
            "grid_template_columns": null,
            "grid_template_rows": null,
            "height": null,
            "justify_content": null,
            "justify_items": null,
            "left": null,
            "margin": null,
            "max_height": null,
            "max_width": null,
            "min_height": null,
            "min_width": null,
            "object_fit": null,
            "object_position": null,
            "order": null,
            "overflow": null,
            "overflow_x": null,
            "overflow_y": null,
            "padding": null,
            "right": null,
            "top": null,
            "visibility": null,
            "width": null
          }
        },
        "0ff44d9f01d745e3b437689447b904ae": {
          "model_module": "@jupyter-widgets/controls",
          "model_name": "DescriptionStyleModel",
          "model_module_version": "1.5.0",
          "state": {
            "_model_module": "@jupyter-widgets/controls",
            "_model_module_version": "1.5.0",
            "_model_name": "DescriptionStyleModel",
            "_view_count": null,
            "_view_module": "@jupyter-widgets/base",
            "_view_module_version": "1.2.0",
            "_view_name": "StyleView",
            "description_width": ""
          }
        },
        "2fed7e1572c148e1bb4042150cc53df3": {
          "model_module": "@jupyter-widgets/controls",
          "model_name": "HBoxModel",
          "model_module_version": "1.5.0",
          "state": {
            "_dom_classes": [],
            "_model_module": "@jupyter-widgets/controls",
            "_model_module_version": "1.5.0",
            "_model_name": "HBoxModel",
            "_view_count": null,
            "_view_module": "@jupyter-widgets/controls",
            "_view_module_version": "1.5.0",
            "_view_name": "HBoxView",
            "box_style": "",
            "children": [
              "IPY_MODEL_09f82b10b9ee4ebaadbb3a2fe3b22609",
              "IPY_MODEL_d7236c6517134c28b7c82c950528d418",
              "IPY_MODEL_27f868f1cce84a849517b5c8759c6be9"
            ],
            "layout": "IPY_MODEL_b93303b706e3488ca95a64734d6819da"
          }
        },
        "09f82b10b9ee4ebaadbb3a2fe3b22609": {
          "model_module": "@jupyter-widgets/controls",
          "model_name": "HTMLModel",
          "model_module_version": "1.5.0",
          "state": {
            "_dom_classes": [],
            "_model_module": "@jupyter-widgets/controls",
            "_model_module_version": "1.5.0",
            "_model_name": "HTMLModel",
            "_view_count": null,
            "_view_module": "@jupyter-widgets/controls",
            "_view_module_version": "1.5.0",
            "_view_name": "HTMLView",
            "description": "",
            "description_tooltip": null,
            "layout": "IPY_MODEL_f1d33402af7e461b9f45974d6097c7e1",
            "placeholder": "​",
            "style": "IPY_MODEL_2b6caa234f754d92a6a3bc6ad75eda56",
            "value": "Loading frames: 100%"
          }
        },
        "d7236c6517134c28b7c82c950528d418": {
          "model_module": "@jupyter-widgets/controls",
          "model_name": "FloatProgressModel",
          "model_module_version": "1.5.0",
          "state": {
            "_dom_classes": [],
            "_model_module": "@jupyter-widgets/controls",
            "_model_module_version": "1.5.0",
            "_model_name": "FloatProgressModel",
            "_view_count": null,
            "_view_module": "@jupyter-widgets/controls",
            "_view_module_version": "1.5.0",
            "_view_name": "ProgressView",
            "bar_style": "success",
            "description": "",
            "description_tooltip": null,
            "layout": "IPY_MODEL_8ad1fbdd9f974274bf9bb3e47a90fbc9",
            "max": 85,
            "min": 0,
            "orientation": "horizontal",
            "style": "IPY_MODEL_b308bfc7fd014a83bd84963f27336f24",
            "value": 85
          }
        },
        "27f868f1cce84a849517b5c8759c6be9": {
          "model_module": "@jupyter-widgets/controls",
          "model_name": "HTMLModel",
          "model_module_version": "1.5.0",
          "state": {
            "_dom_classes": [],
            "_model_module": "@jupyter-widgets/controls",
            "_model_module_version": "1.5.0",
            "_model_name": "HTMLModel",
            "_view_count": null,
            "_view_module": "@jupyter-widgets/controls",
            "_view_module_version": "1.5.0",
            "_view_name": "HTMLView",
            "description": "",
            "description_tooltip": null,
            "layout": "IPY_MODEL_5c25921f4bba4ab59bc5ba9ca8b6df2d",
            "placeholder": "​",
            "style": "IPY_MODEL_3b5ed2813a0e40c4b861fdd6875bdc46",
            "value": " 85/85 [00:00&lt;00:00, 2949.80it/s]"
          }
        },
        "b93303b706e3488ca95a64734d6819da": {
          "model_module": "@jupyter-widgets/base",
          "model_name": "LayoutModel",
          "model_module_version": "1.2.0",
          "state": {
            "_model_module": "@jupyter-widgets/base",
            "_model_module_version": "1.2.0",
            "_model_name": "LayoutModel",
            "_view_count": null,
            "_view_module": "@jupyter-widgets/base",
            "_view_module_version": "1.2.0",
            "_view_name": "LayoutView",
            "align_content": null,
            "align_items": null,
            "align_self": null,
            "border": null,
            "bottom": null,
            "display": null,
            "flex": null,
            "flex_flow": null,
            "grid_area": null,
            "grid_auto_columns": null,
            "grid_auto_flow": null,
            "grid_auto_rows": null,
            "grid_column": null,
            "grid_gap": null,
            "grid_row": null,
            "grid_template_areas": null,
            "grid_template_columns": null,
            "grid_template_rows": null,
            "height": null,
            "justify_content": null,
            "justify_items": null,
            "left": null,
            "margin": null,
            "max_height": null,
            "max_width": null,
            "min_height": null,
            "min_width": null,
            "object_fit": null,
            "object_position": null,
            "order": null,
            "overflow": null,
            "overflow_x": null,
            "overflow_y": null,
            "padding": null,
            "right": null,
            "top": null,
            "visibility": null,
            "width": null
          }
        },
        "f1d33402af7e461b9f45974d6097c7e1": {
          "model_module": "@jupyter-widgets/base",
          "model_name": "LayoutModel",
          "model_module_version": "1.2.0",
          "state": {
            "_model_module": "@jupyter-widgets/base",
            "_model_module_version": "1.2.0",
            "_model_name": "LayoutModel",
            "_view_count": null,
            "_view_module": "@jupyter-widgets/base",
            "_view_module_version": "1.2.0",
            "_view_name": "LayoutView",
            "align_content": null,
            "align_items": null,
            "align_self": null,
            "border": null,
            "bottom": null,
            "display": null,
            "flex": null,
            "flex_flow": null,
            "grid_area": null,
            "grid_auto_columns": null,
            "grid_auto_flow": null,
            "grid_auto_rows": null,
            "grid_column": null,
            "grid_gap": null,
            "grid_row": null,
            "grid_template_areas": null,
            "grid_template_columns": null,
            "grid_template_rows": null,
            "height": null,
            "justify_content": null,
            "justify_items": null,
            "left": null,
            "margin": null,
            "max_height": null,
            "max_width": null,
            "min_height": null,
            "min_width": null,
            "object_fit": null,
            "object_position": null,
            "order": null,
            "overflow": null,
            "overflow_x": null,
            "overflow_y": null,
            "padding": null,
            "right": null,
            "top": null,
            "visibility": null,
            "width": null
          }
        },
        "2b6caa234f754d92a6a3bc6ad75eda56": {
          "model_module": "@jupyter-widgets/controls",
          "model_name": "DescriptionStyleModel",
          "model_module_version": "1.5.0",
          "state": {
            "_model_module": "@jupyter-widgets/controls",
            "_model_module_version": "1.5.0",
            "_model_name": "DescriptionStyleModel",
            "_view_count": null,
            "_view_module": "@jupyter-widgets/base",
            "_view_module_version": "1.2.0",
            "_view_name": "StyleView",
            "description_width": ""
          }
        },
        "8ad1fbdd9f974274bf9bb3e47a90fbc9": {
          "model_module": "@jupyter-widgets/base",
          "model_name": "LayoutModel",
          "model_module_version": "1.2.0",
          "state": {
            "_model_module": "@jupyter-widgets/base",
            "_model_module_version": "1.2.0",
            "_model_name": "LayoutModel",
            "_view_count": null,
            "_view_module": "@jupyter-widgets/base",
            "_view_module_version": "1.2.0",
            "_view_name": "LayoutView",
            "align_content": null,
            "align_items": null,
            "align_self": null,
            "border": null,
            "bottom": null,
            "display": null,
            "flex": null,
            "flex_flow": null,
            "grid_area": null,
            "grid_auto_columns": null,
            "grid_auto_flow": null,
            "grid_auto_rows": null,
            "grid_column": null,
            "grid_gap": null,
            "grid_row": null,
            "grid_template_areas": null,
            "grid_template_columns": null,
            "grid_template_rows": null,
            "height": null,
            "justify_content": null,
            "justify_items": null,
            "left": null,
            "margin": null,
            "max_height": null,
            "max_width": null,
            "min_height": null,
            "min_width": null,
            "object_fit": null,
            "object_position": null,
            "order": null,
            "overflow": null,
            "overflow_x": null,
            "overflow_y": null,
            "padding": null,
            "right": null,
            "top": null,
            "visibility": null,
            "width": null
          }
        },
        "b308bfc7fd014a83bd84963f27336f24": {
          "model_module": "@jupyter-widgets/controls",
          "model_name": "ProgressStyleModel",
          "model_module_version": "1.5.0",
          "state": {
            "_model_module": "@jupyter-widgets/controls",
            "_model_module_version": "1.5.0",
            "_model_name": "ProgressStyleModel",
            "_view_count": null,
            "_view_module": "@jupyter-widgets/base",
            "_view_module_version": "1.2.0",
            "_view_name": "StyleView",
            "bar_color": null,
            "description_width": ""
          }
        },
        "5c25921f4bba4ab59bc5ba9ca8b6df2d": {
          "model_module": "@jupyter-widgets/base",
          "model_name": "LayoutModel",
          "model_module_version": "1.2.0",
          "state": {
            "_model_module": "@jupyter-widgets/base",
            "_model_module_version": "1.2.0",
            "_model_name": "LayoutModel",
            "_view_count": null,
            "_view_module": "@jupyter-widgets/base",
            "_view_module_version": "1.2.0",
            "_view_name": "LayoutView",
            "align_content": null,
            "align_items": null,
            "align_self": null,
            "border": null,
            "bottom": null,
            "display": null,
            "flex": null,
            "flex_flow": null,
            "grid_area": null,
            "grid_auto_columns": null,
            "grid_auto_flow": null,
            "grid_auto_rows": null,
            "grid_column": null,
            "grid_gap": null,
            "grid_row": null,
            "grid_template_areas": null,
            "grid_template_columns": null,
            "grid_template_rows": null,
            "height": null,
            "justify_content": null,
            "justify_items": null,
            "left": null,
            "margin": null,
            "max_height": null,
            "max_width": null,
            "min_height": null,
            "min_width": null,
            "object_fit": null,
            "object_position": null,
            "order": null,
            "overflow": null,
            "overflow_x": null,
            "overflow_y": null,
            "padding": null,
            "right": null,
            "top": null,
            "visibility": null,
            "width": null
          }
        },
        "3b5ed2813a0e40c4b861fdd6875bdc46": {
          "model_module": "@jupyter-widgets/controls",
          "model_name": "DescriptionStyleModel",
          "model_module_version": "1.5.0",
          "state": {
            "_model_module": "@jupyter-widgets/controls",
            "_model_module_version": "1.5.0",
            "_model_name": "DescriptionStyleModel",
            "_view_count": null,
            "_view_module": "@jupyter-widgets/base",
            "_view_module_version": "1.2.0",
            "_view_name": "StyleView",
            "description_width": ""
          }
        }
      }
    }
  },
  "cells": [
    {
      "cell_type": "markdown",
      "source": [
        "# Instructions\n",
        "### 1. Upload your video file.\n",
        "### 2. Run the **Libs** command.\n",
        "### 3. On **Pre-config** match the `file_name` variable to the uploaded video's filename.\n",
        "This var will be used for the final downloadable ZIP and GIF (if desired) files (e.g., `faces_my_example_video.zip`, `faces_my_example_video.gif`).\n",
        "\n",
        "### 4. On **FPS** set a custom value (optional).\n",
        "Do not change it to use original video's FPS.\n",
        "\n",
        "### 5. Run the **App** script.\n",
        "### 6. Run the **GIF** script (optional)."
      ],
      "metadata": {
        "id": "ObQ8oz1iWH9C"
      }
    },
    {
      "cell_type": "markdown",
      "source": [
        "# Libs"
      ],
      "metadata": {
        "id": "wOZkuSJmh44I"
      }
    },
    {
      "cell_type": "code",
      "source": [
        "!pip install opencv-python dlib tqdm"
      ],
      "metadata": {
        "colab": {
          "base_uri": "https://localhost:8080/"
        },
        "id": "r-0lbtofh9cA",
        "outputId": "d4dcc138-93b7-474b-dcff-0b1c914bfc29"
      },
      "execution_count": 18,
      "outputs": [
        {
          "output_type": "stream",
          "name": "stdout",
          "text": [
            "Requirement already satisfied: opencv-python in /usr/local/lib/python3.11/dist-packages (4.12.0.88)\n",
            "Requirement already satisfied: dlib in /usr/local/lib/python3.11/dist-packages (19.24.6)\n",
            "Requirement already satisfied: tqdm in /usr/local/lib/python3.11/dist-packages (4.67.1)\n",
            "Requirement already satisfied: numpy<2.3.0,>=2 in /usr/local/lib/python3.11/dist-packages (from opencv-python) (2.0.2)\n"
          ]
        }
      ]
    },
    {
      "cell_type": "markdown",
      "source": [
        "# Pre-config"
      ],
      "metadata": {
        "id": "NZ287xs_edo9"
      }
    },
    {
      "cell_type": "code",
      "source": [
        "file_name = \"my_example_video.mp4\"\n",
        "square_size = 200   # Final saved image size in pixels (after resize)\n",
        "face_padding = 0.25 # Padding (%) to include around the face crop\n",
        "resize_crop = True  # Resize face fit to square size"
      ],
      "metadata": {
        "id": "kbp0QoPEehDU"
      },
      "execution_count": 19,
      "outputs": []
    },
    {
      "cell_type": "markdown",
      "source": [
        "# Frames per second (FPS)"
      ],
      "metadata": {
        "id": "_zK36zYQi-dC"
      }
    },
    {
      "cell_type": "code",
      "source": [
        "import cv2\n",
        "\n",
        "cap = cv2.VideoCapture(file_name)\n",
        "original_fps = cap.get(cv2.CAP_PROP_FPS)\n",
        "target_fps = original_fps\n",
        "\n",
        "print(f\"Original FPS: {original_fps}\")\n",
        "print(f\"Target FPS: {target_fps}\")\n",
        "\n",
        "# Double check your custom FPS (if apply) meets next condition:\n",
        "# 0 < target_fps <= original_fps\n",
        "\n",
        "# Note: The less target_fps is the more frames skipped"
      ],
      "metadata": {
        "colab": {
          "base_uri": "https://localhost:8080/"
        },
        "id": "imnWjOh8fl84",
        "outputId": "a3102551-7886-46f0-d358-a6adaed2619e"
      },
      "execution_count": 20,
      "outputs": [
        {
          "output_type": "stream",
          "name": "stdout",
          "text": [
            "Original FPS: 23.976023976023978\n",
            "Target FPS: 23.976023976023978\n"
          ]
        }
      ]
    },
    {
      "cell_type": "markdown",
      "source": [
        "# App"
      ],
      "metadata": {
        "id": "ix-H8ZYxhS7S"
      }
    },
    {
      "cell_type": "code",
      "source": [
        "import os\n",
        "import time\n",
        "import dlib\n",
        "import shutil\n",
        "from tqdm.auto import tqdm\n",
        "from google.colab import files\n",
        "\n",
        "# ==== Setup ====\n",
        "detector = dlib.get_frontal_face_detector()\n",
        "\n",
        "output_dir = \"tracked_faces\"\n",
        "output_zip = f\"faces_{file_name.split('.', 1)[0]}\"\n",
        "frame_interval = max(1, int(original_fps // target_fps))\n",
        "total_frames = int(cap.get(cv2.CAP_PROP_FRAME_COUNT))\n",
        "pbar = tqdm(total=total_frames, desc=\"Tracking frames\")\n",
        "\n",
        "if os.path.exists(output_dir):\n",
        "    shutil.rmtree(output_dir)\n",
        "os.makedirs(output_dir)\n",
        "\n",
        "# ==== Helpers ====\n",
        "def elapsed_time(seconds):\n",
        "    if not isinstance(seconds, (int, float)) or seconds < 0:\n",
        "        return \"Bad time value\"\n",
        "\n",
        "    if seconds < 60:\n",
        "        return f\"{seconds:.2f} s\"\n",
        "    elif seconds < 3600:\n",
        "        minutes = seconds / 60\n",
        "        return f\"{minutes:.2f} m\"\n",
        "    else:\n",
        "        hours = seconds / 3600\n",
        "        return f\"{hours:.2f} h\"\n",
        "\n",
        "def as_cover(image):\n",
        "    # Get current crop dimensions\n",
        "    h, w = image.shape[:2]\n",
        "\n",
        "    # Calculate difference to crop to square (centered)\n",
        "    if w > h:\n",
        "        offset = (w - h) // 2\n",
        "        return image[:, offset:offset + h]\n",
        "    elif h > w:\n",
        "        offset = (h - w) // 2\n",
        "        return image[offset:offset + w, :]\n",
        "    return image\n",
        "\n",
        "# ==== App ====\n",
        "def tracker(target_fps, original_fps):\n",
        "  if not (0 < target_fps <= original_fps):\n",
        "    target_fps = original_fps  # Fallback to full speed\n",
        "\n",
        "  frame_step = original_fps / target_fps\n",
        "  next_frame = 0.0\n",
        "  frame_count = 0\n",
        "\n",
        "  while cap.isOpened():\n",
        "      ret, frame = cap.read()\n",
        "      if not ret:\n",
        "          break\n",
        "\n",
        "      if frame_count >= int(next_frame):\n",
        "          gray = cv2.cvtColor(frame, cv2.COLOR_BGR2GRAY)\n",
        "          faces = detector(gray)\n",
        "\n",
        "          if len(faces) > 0:\n",
        "              # Use first face\n",
        "              face = faces[0]\n",
        "              x, y, w, h = face.left(), face.top(), face.width(), face.height()\n",
        "\n",
        "              # Center point of face\n",
        "              cx, cy = x + w // 2, y + h // 2\n",
        "\n",
        "              # Square crop: half of face box + padding\n",
        "              half = int(max(w, h) * (1 + face_padding)) // 2\n",
        "\n",
        "              # Compute crop bounds\n",
        "              left   = max(cx - half, 0)\n",
        "              top    = max(cy - half, 0)\n",
        "              right  = min(cx + half, frame.shape[1])\n",
        "              bottom = min(cy + half, frame.shape[0])\n",
        "\n",
        "              face_crop = frame[top:bottom, left:right]\n",
        "\n",
        "              if resize_crop:\n",
        "                  # 1:1 ratio\n",
        "                  face_crop = as_cover(face_crop)\n",
        "                  # Resize the potentially cropped face to the square size\n",
        "                  face_crop = cv2.resize(face_crop, (square_size, square_size))\n",
        "\n",
        "              filename = os.path.join(output_dir, f\"frame_{frame_count:04d}.jpg\")\n",
        "              cv2.imwrite(filename, face_crop)\n",
        "\n",
        "          next_frame += frame_step\n",
        "\n",
        "      frame_count += 1\n",
        "      pbar.update(1)  # Update progress bar by 1 frame\n",
        "\n",
        "  cap.release()\n",
        "\n",
        "# ==== Main ====\n",
        "if __name__ == \"__main__\":\n",
        "    start_time = time.time()\n",
        "    tracker(target_fps, original_fps)\n",
        "    end_time = time.time()\n",
        "    print(f\"Tracking done [{elapsed_time(end_time - start_time)}].\")\n",
        "\n",
        "    # ZIP\n",
        "    shutil.make_archive(output_zip, 'zip', output_dir)\n",
        "    print(f\"{output_zip}.zip saved.\")\n",
        "\n",
        "    # Download\n",
        "    files.download(f\"{output_zip}.zip\")"
      ],
      "metadata": {
        "id": "Vohr9I2bmG6C",
        "colab": {
          "base_uri": "https://localhost:8080/",
          "height": 84,
          "referenced_widgets": [
            "22e38425e75f4690b8ca91f7d8f1c39a",
            "aa8c3c504c3142069dfd2a384c1fcc2b",
            "b7e40a496be94759aa1ca2d40d7630f5",
            "9c9925c33f3d44518aebe52089589861",
            "a89785decbb04059be8d7d6db90d556d",
            "e582a1c56a954317a08353f363f27321",
            "b73113885af74bbd8ca9a2616dd3b4f9",
            "718a3442a21941ba8160181004e292ef",
            "f3f062551bc44e8e986e5a8ce24cf1a4",
            "904115b8882a488e9cb02d7c0f7df50c",
            "0ff44d9f01d745e3b437689447b904ae"
          ]
        },
        "outputId": "14020afa-f01a-4f20-c91c-772e70ca9653"
      },
      "execution_count": 21,
      "outputs": [
        {
          "output_type": "display_data",
          "data": {
            "text/plain": [
              "Tracking frames:   0%|          | 0/103 [00:00<?, ?it/s]"
            ],
            "application/vnd.jupyter.widget-view+json": {
              "version_major": 2,
              "version_minor": 0,
              "model_id": "22e38425e75f4690b8ca91f7d8f1c39a"
            }
          },
          "metadata": {}
        },
        {
          "output_type": "stream",
          "name": "stdout",
          "text": [
            "Tracking done [14.14 s].\n",
            "faces_my_example_video.zip saved.\n"
          ]
        },
        {
          "output_type": "display_data",
          "data": {
            "text/plain": [
              "<IPython.core.display.Javascript object>"
            ],
            "application/javascript": [
              "\n",
              "    async function download(id, filename, size) {\n",
              "      if (!google.colab.kernel.accessAllowed) {\n",
              "        return;\n",
              "      }\n",
              "      const div = document.createElement('div');\n",
              "      const label = document.createElement('label');\n",
              "      label.textContent = `Downloading \"${filename}\": `;\n",
              "      div.appendChild(label);\n",
              "      const progress = document.createElement('progress');\n",
              "      progress.max = size;\n",
              "      div.appendChild(progress);\n",
              "      document.body.appendChild(div);\n",
              "\n",
              "      const buffers = [];\n",
              "      let downloaded = 0;\n",
              "\n",
              "      const channel = await google.colab.kernel.comms.open(id);\n",
              "      // Send a message to notify the kernel that we're ready.\n",
              "      channel.send({})\n",
              "\n",
              "      for await (const message of channel.messages) {\n",
              "        // Send a message to notify the kernel that we're ready.\n",
              "        channel.send({})\n",
              "        if (message.buffers) {\n",
              "          for (const buffer of message.buffers) {\n",
              "            buffers.push(buffer);\n",
              "            downloaded += buffer.byteLength;\n",
              "            progress.value = downloaded;\n",
              "          }\n",
              "        }\n",
              "      }\n",
              "      const blob = new Blob(buffers, {type: 'application/binary'});\n",
              "      const a = document.createElement('a');\n",
              "      a.href = window.URL.createObjectURL(blob);\n",
              "      a.download = filename;\n",
              "      div.appendChild(a);\n",
              "      a.click();\n",
              "      div.remove();\n",
              "    }\n",
              "  "
            ]
          },
          "metadata": {}
        },
        {
          "output_type": "display_data",
          "data": {
            "text/plain": [
              "<IPython.core.display.Javascript object>"
            ],
            "application/javascript": [
              "download(\"download_e227e505-d24b-4381-b7d8-55835c72dfca\", \"faces_my_example_video.zip\", 1467494)"
            ]
          },
          "metadata": {}
        }
      ]
    },
    {
      "cell_type": "markdown",
      "source": [
        "# GIF"
      ],
      "metadata": {
        "id": "PuEzcsVa4V8a"
      }
    },
    {
      "cell_type": "code",
      "source": [
        "from PIL import Image\n",
        "\n",
        "# ==== Config ====\n",
        "duration = int(1000 / target_fps)\n",
        "input_dir = \"tracked_faces\"\n",
        "output_gif = f\"faces_{file_name.split('.', 1)[0]}.gif\"\n",
        "\n",
        "# ==== Setup ====\n",
        "if not os.path.exists(output_dir):\n",
        "  raise ValueError(f\"{input_dir} folder not found.\")\n",
        "\n",
        "image_files = sorted([\n",
        "    f for f in os.listdir(input_dir)\n",
        "    if f.endswith(('.jpg', '.jpeg', '.png'))\n",
        "])\n",
        "\n",
        "if not image_files:\n",
        "    raise ValueError(f\"No images found in {input_dir}.\")\n",
        "\n",
        "# ==== App ====\n",
        "def gifter():\n",
        "    # Load images into Pillow\n",
        "    frames = []\n",
        "    for f in tqdm(image_files, desc=\"Loading frames\"):\n",
        "        image = Image.open(os.path.join(input_dir, f))\n",
        "        frames.append(image)\n",
        "\n",
        "    # GIF\n",
        "    frames[0].save(\n",
        "        output_gif,\n",
        "        format='gif',\n",
        "        save_all=True,\n",
        "        append_images=frames[1:],\n",
        "        duration=duration,\n",
        "        loop=0\n",
        "    )\n",
        "\n",
        "# ==== Main ====\n",
        "if __name__ == \"__main__\":\n",
        "    start_time = time.time()\n",
        "    gifter()\n",
        "    end_time = time.time()\n",
        "    print(f\"Done [{elapsed_time(end_time - start_time)}].\")\n",
        "    print(f\"{output_gif} saved.\")\n",
        "\n",
        "    # Download\n",
        "    files.download(output_gif)"
      ],
      "metadata": {
        "colab": {
          "base_uri": "https://localhost:8080/",
          "height": 84,
          "referenced_widgets": [
            "2fed7e1572c148e1bb4042150cc53df3",
            "09f82b10b9ee4ebaadbb3a2fe3b22609",
            "d7236c6517134c28b7c82c950528d418",
            "27f868f1cce84a849517b5c8759c6be9",
            "b93303b706e3488ca95a64734d6819da",
            "f1d33402af7e461b9f45974d6097c7e1",
            "2b6caa234f754d92a6a3bc6ad75eda56",
            "8ad1fbdd9f974274bf9bb3e47a90fbc9",
            "b308bfc7fd014a83bd84963f27336f24",
            "5c25921f4bba4ab59bc5ba9ca8b6df2d",
            "3b5ed2813a0e40c4b861fdd6875bdc46"
          ]
        },
        "id": "hM6qJibt4WcI",
        "outputId": "5dcfb659-7622-402d-872d-b14f63e6b301"
      },
      "execution_count": 22,
      "outputs": [
        {
          "output_type": "display_data",
          "data": {
            "text/plain": [
              "Loading frames:   0%|          | 0/85 [00:00<?, ?it/s]"
            ],
            "application/vnd.jupyter.widget-view+json": {
              "version_major": 2,
              "version_minor": 0,
              "model_id": "2fed7e1572c148e1bb4042150cc53df3"
            }
          },
          "metadata": {}
        },
        {
          "output_type": "stream",
          "name": "stdout",
          "text": [
            "Done [4.22 s].\n",
            "faces_my_example_video.gif saved.\n"
          ]
        },
        {
          "output_type": "display_data",
          "data": {
            "text/plain": [
              "<IPython.core.display.Javascript object>"
            ],
            "application/javascript": [
              "\n",
              "    async function download(id, filename, size) {\n",
              "      if (!google.colab.kernel.accessAllowed) {\n",
              "        return;\n",
              "      }\n",
              "      const div = document.createElement('div');\n",
              "      const label = document.createElement('label');\n",
              "      label.textContent = `Downloading \"${filename}\": `;\n",
              "      div.appendChild(label);\n",
              "      const progress = document.createElement('progress');\n",
              "      progress.max = size;\n",
              "      div.appendChild(progress);\n",
              "      document.body.appendChild(div);\n",
              "\n",
              "      const buffers = [];\n",
              "      let downloaded = 0;\n",
              "\n",
              "      const channel = await google.colab.kernel.comms.open(id);\n",
              "      // Send a message to notify the kernel that we're ready.\n",
              "      channel.send({})\n",
              "\n",
              "      for await (const message of channel.messages) {\n",
              "        // Send a message to notify the kernel that we're ready.\n",
              "        channel.send({})\n",
              "        if (message.buffers) {\n",
              "          for (const buffer of message.buffers) {\n",
              "            buffers.push(buffer);\n",
              "            downloaded += buffer.byteLength;\n",
              "            progress.value = downloaded;\n",
              "          }\n",
              "        }\n",
              "      }\n",
              "      const blob = new Blob(buffers, {type: 'application/binary'});\n",
              "      const a = document.createElement('a');\n",
              "      a.href = window.URL.createObjectURL(blob);\n",
              "      a.download = filename;\n",
              "      div.appendChild(a);\n",
              "      a.click();\n",
              "      div.remove();\n",
              "    }\n",
              "  "
            ]
          },
          "metadata": {}
        },
        {
          "output_type": "display_data",
          "data": {
            "text/plain": [
              "<IPython.core.display.Javascript object>"
            ],
            "application/javascript": [
              "download(\"download_301fc7eb-39ac-4039-a21b-3a5b55557b53\", \"faces_my_example_video.gif\", 2915964)"
            ]
          },
          "metadata": {}
        }
      ]
    }
  ]
}